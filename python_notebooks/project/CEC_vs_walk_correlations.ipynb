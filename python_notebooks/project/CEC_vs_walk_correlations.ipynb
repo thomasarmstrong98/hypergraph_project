{
 "cells": [
  {
   "cell_type": "markdown",
   "metadata": {},
   "source": [
    "## Correlations between CEC Centrality Measures with Uniform and Structured PageRank Centralities"
   ]
  },
  {
   "cell_type": "markdown",
   "metadata": {},
   "source": [
    "### Considering Random Graphs Constructed from E-R Model"
   ]
  },
  {
   "cell_type": "code",
   "execution_count": 2,
   "metadata": {},
   "outputs": [],
   "source": [
    "import numpy as np\n",
    "import matplotlib.pyplot as plt\n",
    "import networkx as nx\n",
    "from halp.undirected_hypergraph import UndirectedHypergraph\n",
    "from halp.utilities import undirected_graph_transformations, undirected_matrices\n",
    "import scipy"
   ]
  },
  {
   "cell_type": "code",
   "execution_count": 125,
   "metadata": {},
   "outputs": [],
   "source": [
    "# PageRank functions\n",
    "\n",
    "def power_iteration(A, num_simulations: int):\n",
    "\n",
    "    # Code taken from \"https://en.wikipedia.org/wiki/Power_iteration\"\n",
    "    b_k = np.random.rand(A.shape[1])\n",
    "\n",
    "    for _ in range(num_simulations):\n",
    "        # calculate the matrix-by-vector product Ab\n",
    "        b_k1 = np.dot(A, b_k)\n",
    "\n",
    "        # calculate the norm\n",
    "        b_k1_norm = np.linalg.norm(b_k1, 1)\n",
    "\n",
    "        # re normalize the vector\n",
    "        b_k = b_k1 / b_k1_norm\n",
    "\n",
    "    return b_k\n",
    "\n",
    "def hg_pagerank_power(T, alpha, num_sims):\n",
    "    nodes = list(range(len(T)))\n",
    "    n = len(nodes)\n",
    "\n",
    "    T = alpha*T + (1-alpha)/n*np.ones((n,n)) # PageRank w/ teleportation\n",
    "    \n",
    "    res_pgrk = power_iteration(T.T, 100) # power method\n",
    "    \n",
    "    return res_pgrk\n",
    "\n",
    "\n",
    "def hg_pagerank_full_eig_decomp(T, alpha):\n",
    "    \"\"\"\n",
    "    \n",
    "    Computes the pagerank for a Hypergraph H, for a random walk determined by transition matrix T.\n",
    "    Computes by finding the left eigenvector associated to the eigenvalue \\lambda = 1\n",
    "    Does so by finding all eigenpairs of the matrix and then filtered\n",
    "    (Takes long time for large matrices, see hg_pagerank_fast instead)\n",
    "    \n",
    "    \"\"\"\n",
    "    \n",
    "    \n",
    "    # p(t+1)_i = a * p(t)_i*T + (1-a)/n * 1\n",
    "    \n",
    "    nodes = list(range(len(T)))\n",
    "    n = len(nodes)\n",
    "    \n",
    "    T = alpha*T + (1-alpha)/n*np.ones((n,n))\n",
    "    \n",
    "    # Find the right eigenvalue associated with the 1 eigenvalue (note the transpose of T)\n",
    "    values, vectors = np.linalg.eig(T.T)\n",
    "    print(values.max())\n",
    "    vector = vectors[:,np.isclose(values, values.max())] # find correct evector, code used from: \n",
    "    vector = vector[:,0]\n",
    "    \n",
    "    # normalise the stationary distribution\n",
    "    stat_dist = vector / vector.sum()\n",
    "    stat_dist = stat_dist.real\n",
    "    \n",
    "    \n",
    "    #return the hypergraph PageRank\n",
    "    return stat_dist"
   ]
  },
  {
   "cell_type": "code",
   "execution_count": 115,
   "metadata": {},
   "outputs": [],
   "source": [
    "# generate random E-R graph\n",
    "\n",
    "def generate_er_graph(N, p):\n",
    "    G = nx.bipartite.random_graph(N, np.round(np.sqrt(N),0).astype(int), 0.4)\n",
    "    I = nx.bipartite.biadjacency_matrix(G, row_order = range(N)).toarray()\n",
    "    return I"
   ]
  },
  {
   "cell_type": "code",
   "execution_count": 138,
   "metadata": {},
   "outputs": [],
   "source": [
    "# calculate the CEC centrality\n",
    "\n",
    "\n",
    "# using SVD approach\n",
    "def compute_cec_ranking_svd(A):\n",
    "    # using low rank approximation\n",
    "    rank = 1\n",
    "\n",
    "    # Perform SVD on im and obtain individual matrices\n",
    "    P, D, Q = np.linalg.svd(A, full_matrices=True)\n",
    "    \n",
    "    return P[:, :rank]\n",
    "\n",
    "# using power method approach\n",
    "def compute_cec_ranking_power(A, num_sims):\n",
    "    # implementing the power method\n",
    "    # code altered from: https://en.wikipedia.org/wiki/Power_iteration\n",
    "    b_k = np.random.rand(len(A))\n",
    "\n",
    "    for _ in range(num_sims):\n",
    "        # calculate the matrix-by-vector product Ab\n",
    "        b_k1 = np.dot(A, b_k)\n",
    "\n",
    "        # calculate the norm\n",
    "        b_k1_norm = np.linalg.norm(b_k1)\n",
    "\n",
    "        # re normalize the vector\n",
    "        b_k = b_k1 / b_k1_norm\n",
    "\n",
    "    return b_k"
   ]
  },
  {
   "cell_type": "code",
   "execution_count": 130,
   "metadata": {},
   "outputs": [],
   "source": [
    "# compute correlation between CEC and PageRank\n",
    "\n",
    "def ER_correlation_cec_pgrnk(N, gamma):\n",
    "    \"\"\"\n",
    "    \n",
    "    Computes the correlation between the CEC centrality measure and the PageRank of a non-linear walker\n",
    "    for a random hypergraph generated via the E-R model.\n",
    "    \n",
    "    \n",
    "    \"\"\"\n",
    "    \n",
    "    # generate incidence matrix of hypergraph of N nodes, sqrt(N) hyperedges via E-R model\n",
    "    \n",
    "    I = generate_er_graph(N, 0.4)\n",
    "    # hyper-adjacency matrix\n",
    "    A = I @ I.T\n",
    "    # hyper-edges matrix\n",
    "    C = I.T @ I\n",
    "    \n",
    "    \n",
    "    # find the CEC centrality of the nodes\n",
    "    res_cec = np.abs(compute_cec_ranking_svd(A))\n",
    "    res_cec = res_cec.T[0]\n",
    "    \n",
    "    # generate transition matrix for PageRank\n",
    "    \n",
    "    C_hat = np.diag(np.diag(C))\n",
    "\n",
    "    K = np.zeros((len(A), len(A)))\n",
    "    C_alt = np.diag(np.diag((C_hat - 1).astype(float)**gamma))\n",
    "    C_alt = np.nan_to_num(C_alt, nan = 0, posinf = 0)\n",
    "\n",
    "    K = (I @ C_alt @ I.T).astype(float)\n",
    "    K = K - np.diag(np.diag(K)) # simple walk => remove diagonal entries\n",
    "\n",
    "\n",
    "    T = np.zeros((len(A), len(A)))\n",
    "    for i in range(len(A)):\n",
    "        norm = np.sum(K[i])\n",
    "        if norm ==0:\n",
    "            pass\n",
    "        else:\n",
    "            T[i, :] = K[i] / norm\n",
    "            \n",
    "    # find the PageRank centrality for non-linear walker with parameter gamma\n",
    "    res_pgrk = hg_pagerank_power(T, 0.85, 100)\n",
    "\n",
    "    return np.corrcoef(res_cec, res_pgrk)[0,1] # return correlation between the two measures\n",
    "\n",
    "    "
   ]
  },
  {
   "cell_type": "code",
   "execution_count": 131,
   "metadata": {},
   "outputs": [
    {
     "data": {
      "text/plain": [
       "0.9781588903694499"
      ]
     },
     "execution_count": 131,
     "metadata": {},
     "output_type": "execute_result"
    }
   ],
   "source": [
    "ER_correlation_cec_pgrnk(50, -2)"
   ]
  },
  {
   "cell_type": "markdown",
   "metadata": {},
   "source": [
    "### ER Model: CEC vs Uniform Walker"
   ]
  },
  {
   "cell_type": "code",
   "execution_count": 139,
   "metadata": {},
   "outputs": [],
   "source": [
    "small_num_list = np.logspace(1.5, 3, 22) # seperate list for large and small graphs\n",
    "large_num_list = np.logspace(3.1, 4, 8) # average over more realisations of smaller graphs as faster and results more volatile\n",
    "\n",
    "\n",
    "corr_hist_small = {}\n",
    "for i in range(30):\n",
    "    corr_hist_small[i] = []\n",
    "    for N in small_num_list.astype(int):\n",
    "        corr_hist_small[i].append(ER_correlation_cec_pgrnk(N, -1)) # gamma = -1 => uniform walker\n",
    "        \n",
    "corr_hist = {}\n",
    "for i in range(3):\n",
    "    corr_hist[i] = []\n",
    "    for N in large_num_list.astype(int):\n",
    "        corr_hist[i].append(ER_correlation_cec_pgrnk(N, -1))\n"
   ]
  },
  {
   "cell_type": "code",
   "execution_count": 140,
   "metadata": {},
   "outputs": [],
   "source": [
    "avg_small = np.mean(list(corr_hist_small.values()), axis = 0)\n",
    "avg_large = np.mean(list(corr_hist.values()), axis = 0)\n",
    "\n",
    "avg_corr = np.concatenate((avg_small, avg_large))"
   ]
  },
  {
   "cell_type": "code",
   "execution_count": 141,
   "metadata": {},
   "outputs": [
    {
     "data": {
      "text/plain": [
       "[<matplotlib.lines.Line2D at 0x1e6911b8d68>]"
      ]
     },
     "execution_count": 141,
     "metadata": {},
     "output_type": "execute_result"
    },
    {
     "data": {
      "image/png": "[encoded data removed]",
      "text/plain": [
       "<Figure size 432x288 with 1 Axes>"
      ]
     },
     "metadata": {
      "needs_background": "light"
     },
     "output_type": "display_data"
    }
   ],
   "source": [
    "plt.semilogx(np.logspace(1.5, 4, 30),avg_corr)"
   ]
  },
  {
   "cell_type": "code",
   "execution_count": 144,
   "metadata": {},
   "outputs": [],
   "source": [
    "# saving results\n",
    "\n",
    "# import pickle\n",
    "\n",
    "# with open('data/corr_cec_uniform_ER_model.pkl', 'wb') as f: \n",
    "#     pickle.dump(avg_corr, f)"
   ]
  },
  {
   "cell_type": "markdown",
   "metadata": {},
   "source": [
    "### ER Model: CEC vs Structured Walker"
   ]
  },
  {
   "cell_type": "code",
   "execution_count": 152,
   "metadata": {},
   "outputs": [],
   "source": [
    "small_num_list = np.logspace(1.5, 3, 22) # seperate list for large and small graphs\n",
    "large_num_list = np.logspace(3.1, 4, 8) # average over more realisations of smaller graphs as faster and results more volatile\n",
    "\n",
    "\n",
    "corr_hist_small = {}\n",
    "for i in range(100):\n",
    "    corr_hist_small[i] = []\n",
    "    for N in small_num_list.astype(int):\n",
    "        corr_hist_small[i].append(ER_correlation_cec_pgrnk(N, 1)) # gamma  = 1 => structured walker\n",
    "        \n",
    "corr_hist = {}\n",
    "for i in range(3):\n",
    "    corr_hist[i] = []\n",
    "    for N in large_num_list.astype(int):\n",
    "        corr_hist[i].append(ER_correlation_cec_pgrnk(N, 1))"
   ]
  },
  {
   "cell_type": "code",
   "execution_count": 153,
   "metadata": {},
   "outputs": [],
   "source": [
    "avg_small = np.mean(list(corr_hist_small.values()), axis = 0)\n",
    "avg_large = np.mean(list(corr_hist.values()), axis = 0)\n",
    "\n",
    "avg_corr = np.concatenate((avg_small, avg_large))"
   ]
  },
  {
   "cell_type": "code",
   "execution_count": 154,
   "metadata": {},
   "outputs": [
    {
     "data": {
      "text/plain": [
       "[<matplotlib.lines.Line2D at 0x1e689444e80>]"
      ]
     },
     "execution_count": 154,
     "metadata": {},
     "output_type": "execute_result"
    },
    {
     "data": {
      "image/png": "[encoded data removed]",
      "text/plain": [
       "<Figure size 432x288 with 1 Axes>"
      ]
     },
     "metadata": {
      "needs_background": "light"
     },
     "output_type": "display_data"
    }
   ],
   "source": [
    "plt.semilogx(np.logspace(1.5, 4, 30),avg_corr)"
   ]
  },
  {
   "cell_type": "code",
   "execution_count": 151,
   "metadata": {},
   "outputs": [],
   "source": [
    "# saving results\n",
    "\n",
    "# import pickle\n",
    "\n",
    "# with open('data/corr_cec_structured_ER_model.pkl', 'wb') as f: \n",
    "#     pickle.dump(avg_corr, f)"
   ]
  },
  {
   "cell_type": "code",
   "execution_count": null,
   "metadata": {},
   "outputs": [],
   "source": []
  }
 ],
 "metadata": {
  "kernelspec": {
   "display_name": "Python 3",
   "language": "python",
   "name": "python3"
  },
  "language_info": {
   "codemirror_mode": {
    "name": "ipython",
    "version": 3
   },
   "file_extension": ".py",
   "mimetype": "text/x-python",
   "name": "python",
   "nbconvert_exporter": "python",
   "pygments_lexer": "ipython3",
   "version": "3.6.6"
  }
 },
 "nbformat": 4,
 "nbformat_minor": 2
}
