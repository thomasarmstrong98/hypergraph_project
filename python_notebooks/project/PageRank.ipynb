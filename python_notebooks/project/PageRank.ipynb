{
 "cells": [
  {
   "cell_type": "code",
   "execution_count": 1,
   "metadata": {},
   "outputs": [],
   "source": [
    "import numpy as np\n",
    "import matplotlib.pyplot as plt\n",
    "import networkx as nx\n",
    "from halp.undirected_hypergraph import UndirectedHypergraph\n",
    "from halp.utilities import undirected_graph_transformations, undirected_matrices\n",
    "import scipy"
   ]
  },
  {
   "cell_type": "markdown",
   "metadata": {},
   "source": [
    "## Hypergraph PageRank"
   ]
  },
  {
   "cell_type": "markdown",
   "metadata": {},
   "source": [
    "$$\n",
    "p_j(t+1) = \\alpha p_j(t)\\textbf{T}^T + \\frac{(1-\\alpha)}{n}\\mathbb{1}\n",
    "$$"
   ]
  },
  {
   "cell_type": "code",
   "execution_count": 4,
   "metadata": {},
   "outputs": [],
   "source": [
    "# generate a hypergraph H\n",
    "\n",
    "H = UndirectedHypergraph()\n",
    "H.add_nodes(list(range(9)))\n",
    "\n",
    "# (2,3) graph\n",
    "H.add_hyperedge([0,1,2])\n",
    "H.add_hyperedge([3,4,5])\n",
    "H.add_hyperedge([6,7,8])\n",
    "H.add_hyperedge([0,3,6])\n",
    "H.add_hyperedge([1,5,8])\n",
    "H.add_hyperedge([2,4,7])\n",
    "\n",
    "node_map = undirected_matrices.get_node_mapping(H)[1]\n",
    "edge_map = undirected_matrices.get_hyperedge_id_mapping(H)[1]\n",
    "\n",
    "I = undirected_matrices.get_incidence_matrix(H, node_map, edge_map).toarray()"
   ]
  },
  {
   "cell_type": "code",
   "execution_count": 24,
   "metadata": {},
   "outputs": [],
   "source": [
    "def hg_pagerank(H, T, alpha, tolerance):\n",
    "    \"\"\"\n",
    "    \n",
    "    Computes the pagerank for a Hypergraph H, for a random walk determined by transition matrix T.\n",
    "    \n",
    "    \"\"\"\n",
    "    \n",
    "    nodes = H.get_node_set()\n",
    "    n = len(nodes)\n",
    "    p_hist = []\n",
    "    \n",
    "    for i in range(100):\n",
    "        # running 100 walks from different starting points\n",
    "        \n",
    "        # generating a starting node\n",
    "        node = np.random.choice(n)\n",
    "        p = np.zeros(n)\n",
    "        p[node] = 1\n",
    "        \n",
    "        norm = 50\n",
    "        count = 1\n",
    "        \n",
    "        for j in range(10000):\n",
    "            p = alpha*p.dot(T) + ((1-alpha)/n)*np.ones(n)  # PageRank update with teleportation\n",
    "        \n",
    "        p_hist.append(p)\n",
    "        \n",
    "    return np.mean(p_hist, axis = 0)"
   ]
  },
  {
   "cell_type": "markdown",
   "metadata": {},
   "source": [
    "### Simple Random Walk $R_1$"
   ]
  },
  {
   "cell_type": "code",
   "execution_count": 25,
   "metadata": {},
   "outputs": [],
   "source": [
    "D_v = 2*np.identity(9)\n",
    "D_e = 3*np.identity(6)\n",
    "\n",
    "\n",
    "A = I @ np.linalg.inv(D_e - np.identity(6)) @ I.T\n",
    "A = A - np.diag(np.diag(A))\n",
    "T = np.linalg.inv(D_v) @ A"
   ]
  },
  {
   "cell_type": "code",
   "execution_count": 26,
   "metadata": {},
   "outputs": [
    {
     "data": {
      "text/plain": [
       "array([0.11111111, 0.11111111, 0.11111111, 0.11111111, 0.11111111,\n",
       "       0.11111111, 0.11111111, 0.11111111, 0.11111111])"
      ]
     },
     "execution_count": 26,
     "metadata": {},
     "output_type": "execute_result"
    }
   ],
   "source": [
    "res = hg_pagerank(H, T, 0.85, 1)\n",
    "res"
   ]
  },
  {
   "cell_type": "code",
   "execution_count": null,
   "metadata": {},
   "outputs": [],
   "source": []
  }
 ],
 "metadata": {
  "kernelspec": {
   "display_name": "Python 3",
   "language": "python",
   "name": "python3"
  },
  "language_info": {
   "codemirror_mode": {
    "name": "ipython",
    "version": 3
   },
   "file_extension": ".py",
   "mimetype": "text/x-python",
   "name": "python",
   "nbconvert_exporter": "python",
   "pygments_lexer": "ipython3",
   "version": "3.6.6"
  }
 },
 "nbformat": 4,
 "nbformat_minor": 2
}
