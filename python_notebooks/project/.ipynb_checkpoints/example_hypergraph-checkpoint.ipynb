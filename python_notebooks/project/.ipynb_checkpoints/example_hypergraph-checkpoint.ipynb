{
 "cells": [
  {
   "cell_type": "code",
   "execution_count": 1,
   "metadata": {},
   "outputs": [],
   "source": [
    "import numpy as np\n",
    "import matplotlib.pyplot as plt\n",
    "import networkx as nx\n",
    "from halp.undirected_hypergraph import UndirectedHypergraph\n",
    "from halp.utilities import undirected_graph_transformations, undirected_matrices\n",
    "import scipy"
   ]
  },
  {
   "cell_type": "markdown",
   "metadata": {},
   "source": [
    "## Testing Two different random walks"
   ]
  },
  {
   "cell_type": "markdown",
   "metadata": {},
   "source": [
    "Creating two types of simple random walks. \n",
    "- The first type $R_1$ is a walker that chooses the next hyperege uniformly and then selects the node among that hyper edge uniformly.\n",
    "- The second type $R_2$ is a walker such that the probability of a jump from $i$ to $j$ is proportional to the number of nodes that belong to hyperedges common to both $i$ and $j$."
   ]
  },
  {
   "cell_type": "code",
   "execution_count": 2,
   "metadata": {},
   "outputs": [],
   "source": [
    "def walker_1(H, start_node, num_steps):\n",
    "    node = start_node\n",
    "    hist = []\n",
    "\n",
    "    for i in range(num_steps):\n",
    "        hist.append(node)\n",
    "        edges = list(H.get_star(node))\n",
    "        # randomly select next hyperedge\n",
    "        e = np.random.choice(edges)\n",
    "        # select next node (not the current node)\n",
    "        nodes = [node_iter for node_iter in H.get_hyperedge_nodes(e) if node_iter != node]\n",
    "        node = np.random.choice(nodes)\n",
    "        \n",
    "    return hist"
   ]
  },
  {
   "cell_type": "code",
   "execution_count": 3,
   "metadata": {},
   "outputs": [
    {
     "data": {
      "text/plain": [
       "'e2'"
      ]
     },
     "execution_count": 3,
     "metadata": {},
     "output_type": "execute_result"
    }
   ],
   "source": [
    "H = UndirectedHypergraph()\n",
    "H.add_nodes([\"A\", \"B\", \"C\", \"D\"])\n",
    "H.add_hyperedge([\"A\", \"B\", \"C\"])\n",
    "H.add_hyperedge([\"C\", \"D\"])"
   ]
  },
  {
   "cell_type": "code",
   "execution_count": 4,
   "metadata": {},
   "outputs": [],
   "source": [
    "node_map = undirected_matrices.get_node_mapping(H)[1]\n",
    "edge_map = undirected_matrices.get_hyperedge_id_mapping(H)[1]"
   ]
  },
  {
   "cell_type": "code",
   "execution_count": 5,
   "metadata": {},
   "outputs": [
    {
     "data": {
      "text/plain": [
       "{'D': 0, 'B': 1, 'A': 2, 'C': 3}"
      ]
     },
     "execution_count": 5,
     "metadata": {},
     "output_type": "execute_result"
    }
   ],
   "source": [
    "node_map"
   ]
  },
  {
   "cell_type": "code",
   "execution_count": 6,
   "metadata": {},
   "outputs": [
    {
     "data": {
      "text/plain": [
       "(4, 2)"
      ]
     },
     "execution_count": 6,
     "metadata": {},
     "output_type": "execute_result"
    }
   ],
   "source": [
    "I = undirected_matrices.get_incidence_matrix(H, node_map, edge_map)\n",
    "np.shape(I)"
   ]
  },
  {
   "cell_type": "code",
   "execution_count": 10,
   "metadata": {},
   "outputs": [],
   "source": [
    "A = I.dot(I.T)\n",
    "A = A -np.diag(np.diag(A.toarray()))"
   ]
  },
  {
   "cell_type": "code",
   "execution_count": 11,
   "metadata": {},
   "outputs": [
    {
     "name": "stderr",
     "output_type": "stream",
     "text": [
      "C:\\Anaconda3\\lib\\site-packages\\networkx\\drawing\\nx_pylab.py:563: MatplotlibDeprecationWarning: \n",
      "The iterable function was deprecated in Matplotlib 3.1 and will be removed in 3.3. Use np.iterable instead.\n",
      "  if not cb.iterable(width):\n",
      "C:\\Anaconda3\\lib\\site-packages\\networkx\\drawing\\nx_pylab.py:611: MatplotlibDeprecationWarning: \n",
      "The is_numlike function was deprecated in Matplotlib 3.0 and will be removed in 3.2. Use isinstance(..., numbers.Number) instead.\n",
      "  if cb.is_numlike(alpha):\n"
     ]
    },
    {
     "data": {
      "image/png": "[encoded data removed]",
      "text/plain": [
       "<Figure size 432x288 with 1 Axes>"
      ]
     },
     "metadata": {},
     "output_type": "display_data"
    }
   ],
   "source": [
    "nx_graph = nx.from_numpy_matrix(A)\n",
    "nx.draw(nx_graph)"
   ]
  },
  {
   "cell_type": "code",
   "execution_count": 12,
   "metadata": {},
   "outputs": [
    {
     "data": {
      "text/plain": [
       "<matplotlib.image.AxesImage at 0x25d4f910ba8>"
      ]
     },
     "execution_count": 12,
     "metadata": {},
     "output_type": "execute_result"
    },
    {
     "data": {
      "image/png": "[encoded data removed]",
      "text/plain": [
       "<Figure size 432x288 with 1 Axes>"
      ]
     },
     "metadata": {
      "needs_background": "light"
     },
     "output_type": "display_data"
    }
   ],
   "source": [
    "plt.imshow(A)"
   ]
  },
  {
   "cell_type": "code",
   "execution_count": 13,
   "metadata": {},
   "outputs": [
    {
     "data": {
      "text/plain": [
       "matrix([[0, 0, 0, 1],\n",
       "        [0, 0, 1, 1],\n",
       "        [0, 1, 0, 1],\n",
       "        [1, 1, 1, 0]], dtype=int32)"
      ]
     },
     "execution_count": 13,
     "metadata": {},
     "output_type": "execute_result"
    }
   ],
   "source": [
    "A"
   ]
  },
  {
   "cell_type": "code",
   "execution_count": 14,
   "metadata": {},
   "outputs": [],
   "source": [
    "# Hyperedges Matrix\n",
    "C = I.T.dot(I)"
   ]
  },
  {
   "cell_type": "code",
   "execution_count": 15,
   "metadata": {},
   "outputs": [
    {
     "data": {
      "text/plain": [
       "array([[3, 1],\n",
       "       [1, 2]], dtype=int32)"
      ]
     },
     "execution_count": 15,
     "metadata": {},
     "output_type": "execute_result"
    }
   ],
   "source": [
    "C.toarray()"
   ]
  },
  {
   "cell_type": "code",
   "execution_count": 16,
   "metadata": {},
   "outputs": [
    {
     "data": {
      "text/plain": [
       "array([[3, 0],\n",
       "       [0, 2]], dtype=int32)"
      ]
     },
     "execution_count": 16,
     "metadata": {},
     "output_type": "execute_result"
    }
   ],
   "source": [
    "C_hat = np.diag(np.diag(C.toarray()))\n",
    "C_hat"
   ]
  },
  {
   "cell_type": "code",
   "execution_count": 17,
   "metadata": {},
   "outputs": [],
   "source": [
    "K = np.zeros((len(A), len(A)))\n",
    "\n",
    "for i in range(len(A)):\n",
    "    for j in range(len(A)):\n",
    "        if i == j:\n",
    "            pass \n",
    "        else:\n",
    "            K[i,j] = (I @ C_hat @ I.T)[i,j] - A[i,j]"
   ]
  },
  {
   "cell_type": "code",
   "execution_count": 18,
   "metadata": {},
   "outputs": [
    {
     "data": {
      "text/plain": [
       "array([[0., 0., 0., 1.],\n",
       "       [0., 0., 2., 2.],\n",
       "       [0., 2., 0., 2.],\n",
       "       [1., 2., 2., 0.]])"
      ]
     },
     "execution_count": 18,
     "metadata": {},
     "output_type": "execute_result"
    }
   ],
   "source": [
    "K"
   ]
  },
  {
   "cell_type": "code",
   "execution_count": 19,
   "metadata": {},
   "outputs": [],
   "source": [
    "T = K.copy()\n",
    "for i in range(len(A)):\n",
    "    norm = np.sum(K[i])\n",
    "    for j in range(len(A)):\n",
    "        T[i,j] = K[i,j] / norm"
   ]
  },
  {
   "cell_type": "code",
   "execution_count": 20,
   "metadata": {},
   "outputs": [
    {
     "data": {
      "text/plain": [
       "array([[0. , 0. , 0. , 1. ],\n",
       "       [0. , 0. , 0.5, 0.5],\n",
       "       [0. , 0.5, 0. , 0.5],\n",
       "       [0.2, 0.4, 0.4, 0. ]])"
      ]
     },
     "execution_count": 20,
     "metadata": {},
     "output_type": "execute_result"
    }
   ],
   "source": [
    "T"
   ]
  },
  {
   "cell_type": "code",
   "execution_count": 21,
   "metadata": {},
   "outputs": [
    {
     "data": {
      "text/plain": [
       "<matplotlib.image.AxesImage at 0x25d4f98d9e8>"
      ]
     },
     "execution_count": 21,
     "metadata": {},
     "output_type": "execute_result"
    },
    {
     "data": {
      "image/png": "[encoded data removed]",
      "text/plain": [
       "<Figure size 432x288 with 1 Axes>"
      ]
     },
     "metadata": {
      "needs_background": "light"
     },
     "output_type": "display_data"
    }
   ],
   "source": [
    "plt.imshow(T)"
   ]
  },
  {
   "cell_type": "code",
   "execution_count": 22,
   "metadata": {},
   "outputs": [],
   "source": [
    "p = np.zeros(len(A))\n",
    "p[0] = 1\n",
    "\n",
    "for t in range(100):\n",
    "    p = p.dot(T.T)"
   ]
  },
  {
   "cell_type": "code",
   "execution_count": 23,
   "metadata": {},
   "outputs": [
    {
     "data": {
      "text/plain": [
       "array([0.07142857, 0.07142857, 0.07142857, 0.07142857])"
      ]
     },
     "execution_count": 23,
     "metadata": {},
     "output_type": "execute_result"
    }
   ],
   "source": [
    "p"
   ]
  },
  {
   "cell_type": "code",
   "execution_count": 24,
   "metadata": {},
   "outputs": [
    {
     "data": {
      "text/plain": [
       "0.28571428571428603"
      ]
     },
     "execution_count": 24,
     "metadata": {},
     "output_type": "execute_result"
    }
   ],
   "source": [
    "np.sum(p)"
   ]
  },
  {
   "cell_type": "code",
   "execution_count": 25,
   "metadata": {},
   "outputs": [
    {
     "data": {
      "text/plain": [
       "array([0.2, 0.9, 0.9, 2. ])"
      ]
     },
     "execution_count": 25,
     "metadata": {},
     "output_type": "execute_result"
    }
   ],
   "source": [
    "np.ones(len(A)).dot(T)"
   ]
  },
  {
   "cell_type": "code",
   "execution_count": null,
   "metadata": {},
   "outputs": [],
   "source": []
  },
  {
   "cell_type": "code",
   "execution_count": 26,
   "metadata": {},
   "outputs": [
    {
     "data": {
      "text/plain": [
       "<4x2 sparse matrix of type '<class 'numpy.int32'>'\n",
       "\twith 5 stored elements in Compressed Sparse Column format>"
      ]
     },
     "execution_count": 26,
     "metadata": {},
     "output_type": "execute_result"
    }
   ],
   "source": [
    "I"
   ]
  },
  {
   "cell_type": "code",
   "execution_count": 27,
   "metadata": {},
   "outputs": [],
   "source": [
    "D_v = np.diag([1, 1, 1, 2])\n",
    "D_e = np.diag([3, 2])\n",
    "\n",
    "A2 = I @ np.linalg.inv(D_e - np.identity(2)) @ I.T"
   ]
  },
  {
   "cell_type": "code",
   "execution_count": 28,
   "metadata": {},
   "outputs": [],
   "source": [
    "A2 = A2 - np.diag(np.diag(A2))"
   ]
  },
  {
   "cell_type": "code",
   "execution_count": 29,
   "metadata": {},
   "outputs": [],
   "source": [
    "T2 = np.linalg.inv(D_v) @ A2"
   ]
  },
  {
   "cell_type": "code",
   "execution_count": 30,
   "metadata": {},
   "outputs": [
    {
     "data": {
      "text/plain": [
       "array([[0.  , 0.  , 0.  , 1.  ],\n",
       "       [0.  , 0.  , 0.5 , 0.5 ],\n",
       "       [0.  , 0.5 , 0.  , 0.5 ],\n",
       "       [0.5 , 0.25, 0.25, 0.  ]])"
      ]
     },
     "execution_count": 30,
     "metadata": {},
     "output_type": "execute_result"
    }
   ],
   "source": [
    "T2"
   ]
  },
  {
   "cell_type": "code",
   "execution_count": 31,
   "metadata": {},
   "outputs": [
    {
     "data": {
      "text/plain": [
       "array([[0. , 0. , 0. , 1. ],\n",
       "       [0. , 0. , 0.5, 0.5],\n",
       "       [0. , 0.5, 0. , 0.5],\n",
       "       [0.2, 0.4, 0.4, 0. ]])"
      ]
     },
     "execution_count": 31,
     "metadata": {},
     "output_type": "execute_result"
    }
   ],
   "source": [
    "T"
   ]
  },
  {
   "cell_type": "code",
   "execution_count": 32,
   "metadata": {},
   "outputs": [],
   "source": [
    "p = np.zeros(len(A))\n",
    "p[0] = 1\n",
    "\n",
    "for t in range(1000):\n",
    "    p = p.dot(T2.T)"
   ]
  },
  {
   "cell_type": "code",
   "execution_count": 33,
   "metadata": {},
   "outputs": [
    {
     "data": {
      "text/plain": [
       "array([0.2, 0.2, 0.2, 0.2])"
      ]
     },
     "execution_count": 33,
     "metadata": {},
     "output_type": "execute_result"
    }
   ],
   "source": [
    "p"
   ]
  },
  {
   "cell_type": "code",
   "execution_count": 34,
   "metadata": {},
   "outputs": [],
   "source": [
    "#We have to transpose so that Markov transitions correspond to right multiplying by a column vector.  np.linalg.eig finds right eigenvectors.\n",
    "evals, evecs = np.linalg.eig(T2.T)\n",
    "evec1 = evecs[:,np.isclose(evals, 1)]\n",
    "\n",
    "#Since np.isclose will return an array, we've indexed with an array\n",
    "#so we still have our 2nd axis.  Get rid of it, since it's only size 1.\n",
    "evec1 = evec1[:,0]\n",
    "\n",
    "stationary2 = evec1 / evec1.sum()\n",
    "\n",
    "#eigs finds complex eigenvalues and eigenvectors, so you'll want the real part.\n",
    "stationary2 = stationary2.real"
   ]
  },
  {
   "cell_type": "code",
   "execution_count": 38,
   "metadata": {},
   "outputs": [
    {
     "data": {
      "text/plain": [
       "array([0.07142857, 0.28571429, 0.28571429, 0.35714286])"
      ]
     },
     "execution_count": 38,
     "metadata": {},
     "output_type": "execute_result"
    }
   ],
   "source": [
    "stationary"
   ]
  },
  {
   "cell_type": "code",
   "execution_count": 39,
   "metadata": {},
   "outputs": [
    {
     "data": {
      "text/plain": [
       "1.0"
      ]
     },
     "execution_count": 39,
     "metadata": {},
     "output_type": "execute_result"
    }
   ],
   "source": [
    "np.sum(stationary)"
   ]
  },
  {
   "cell_type": "code",
   "execution_count": 37,
   "metadata": {},
   "outputs": [],
   "source": [
    "#We have to transpose so that Markov transitions correspond to right multiplying by a column vector.  np.linalg.eig finds right eigenvectors.\n",
    "evals, evecs = np.linalg.eig(T.T)\n",
    "evec1 = evecs[:,np.isclose(evals, 1)]\n",
    "\n",
    "#Since np.isclose will return an array, we've indexed with an array\n",
    "#so we still have our 2nd axis.  Get rid of it, since it's only size 1.\n",
    "evec1 = evec1[:,0]\n",
    "\n",
    "stationary = evec1 / evec1.sum()\n",
    "\n",
    "#eigs finds complex eigenvalues and eigenvectors, so you'll want the real part.\n",
    "stationary = stationary.real"
   ]
  },
  {
   "cell_type": "code",
   "execution_count": 218,
   "metadata": {},
   "outputs": [
    {
     "data": {
      "text/plain": [
       "array([0.08512791, 0.27658139, 0.27658139, 0.3617093 ])"
      ]
     },
     "execution_count": 218,
     "metadata": {},
     "output_type": "execute_result"
    }
   ],
   "source": [
    "stationary"
   ]
  },
  {
   "cell_type": "code",
   "execution_count": 40,
   "metadata": {},
   "outputs": [
    {
     "data": {
      "text/plain": [
       "array([[1.        , 0.57735027],\n",
       "       [0.57735027, 1.        ]])"
      ]
     },
     "execution_count": 40,
     "metadata": {},
     "output_type": "execute_result"
    }
   ],
   "source": [
    "np.corrcoef(stationary, stationary2)"
   ]
  },
  {
   "cell_type": "markdown",
   "metadata": {},
   "source": [
    "## Introducing Non-Linear Transition Probabilities"
   ]
  },
  {
   "cell_type": "code",
   "execution_count": 41,
   "metadata": {},
   "outputs": [
    {
     "ename": "TypeError",
     "evalue": "sparse matrix length is ambiguous; use getnnz() or shape[0]",
     "output_type": "error",
     "traceback": [
      "\u001b[1;31m---------------------------------------------------------------------------\u001b[0m",
      "\u001b[1;31mTypeError\u001b[0m                                 Traceback (most recent call last)",
      "\u001b[1;32m<ipython-input-41-d7def77295a8>\u001b[0m in \u001b[0;36m<module>\u001b[1;34m\u001b[0m\n\u001b[0;32m      8\u001b[0m             \u001b[1;32mpass\u001b[0m\u001b[1;33m\u001b[0m\u001b[0m\n\u001b[0;32m      9\u001b[0m         \u001b[1;32melse\u001b[0m\u001b[1;33m:\u001b[0m\u001b[1;33m\u001b[0m\u001b[0m\n\u001b[1;32m---> 10\u001b[1;33m             \u001b[1;32mfor\u001b[0m \u001b[0me\u001b[0m \u001b[1;32min\u001b[0m \u001b[0mrange\u001b[0m\u001b[1;33m(\u001b[0m\u001b[0mlen\u001b[0m\u001b[1;33m(\u001b[0m\u001b[0mI\u001b[0m\u001b[1;33m[\u001b[0m\u001b[1;36m0\u001b[0m\u001b[1;33m]\u001b[0m\u001b[1;33m)\u001b[0m\u001b[1;33m)\u001b[0m\u001b[1;33m:\u001b[0m\u001b[1;33m\u001b[0m\u001b[0m\n\u001b[0m\u001b[0;32m     11\u001b[0m                 \u001b[0mK\u001b[0m\u001b[1;33m[\u001b[0m\u001b[0mi\u001b[0m\u001b[1;33m,\u001b[0m\u001b[0mj\u001b[0m\u001b[1;33m]\u001b[0m \u001b[1;33m+=\u001b[0m \u001b[1;33m(\u001b[0m\u001b[1;33m(\u001b[0m\u001b[0mC_hat\u001b[0m\u001b[1;33m[\u001b[0m\u001b[0me\u001b[0m\u001b[1;33m,\u001b[0m\u001b[0me\u001b[0m\u001b[1;33m]\u001b[0m\u001b[1;33m.\u001b[0m\u001b[0mastype\u001b[0m\u001b[1;33m(\u001b[0m\u001b[0mfloat\u001b[0m\u001b[1;33m)\u001b[0m \u001b[1;33m-\u001b[0m \u001b[1;36m1\u001b[0m\u001b[1;33m)\u001b[0m\u001b[1;33m**\u001b[0m\u001b[0mgamma\u001b[0m\u001b[1;33m)\u001b[0m\u001b[1;33m*\u001b[0m\u001b[0mI\u001b[0m\u001b[1;33m[\u001b[0m\u001b[0mi\u001b[0m\u001b[1;33m,\u001b[0m\u001b[0me\u001b[0m\u001b[1;33m]\u001b[0m\u001b[1;33m*\u001b[0m\u001b[0mI\u001b[0m\u001b[1;33m[\u001b[0m\u001b[0mj\u001b[0m\u001b[1;33m,\u001b[0m\u001b[0me\u001b[0m\u001b[1;33m]\u001b[0m\u001b[1;33m\u001b[0m\u001b[0m\n",
      "\u001b[1;32mC:\\Anaconda3\\lib\\site-packages\\scipy\\sparse\\base.py\u001b[0m in \u001b[0;36m__len__\u001b[1;34m(self)\u001b[0m\n\u001b[0;32m    294\u001b[0m     \u001b[1;31m# non-zeros is more important.  For now, raise an exception!\u001b[0m\u001b[1;33m\u001b[0m\u001b[1;33m\u001b[0m\u001b[0m\n\u001b[0;32m    295\u001b[0m     \u001b[1;32mdef\u001b[0m \u001b[0m__len__\u001b[0m\u001b[1;33m(\u001b[0m\u001b[0mself\u001b[0m\u001b[1;33m)\u001b[0m\u001b[1;33m:\u001b[0m\u001b[1;33m\u001b[0m\u001b[0m\n\u001b[1;32m--> 296\u001b[1;33m         raise TypeError(\"sparse matrix length is ambiguous; use getnnz()\"\n\u001b[0m\u001b[0;32m    297\u001b[0m                         \" or shape[0]\")\n\u001b[0;32m    298\u001b[0m \u001b[1;33m\u001b[0m\u001b[0m\n",
      "\u001b[1;31mTypeError\u001b[0m: sparse matrix length is ambiguous; use getnnz() or shape[0]"
     ]
    }
   ],
   "source": [
    "K = np.zeros((len(A), len(A)))\n",
    "\n",
    "gamma = -1.2\n",
    "\n",
    "for i in range(len(A)):\n",
    "    for j in range(len(A)):\n",
    "        if i == j:\n",
    "            pass \n",
    "        else:\n",
    "            for e in range(len(I[0])):\n",
    "                K[i,j] += ((C_hat[e,e].astype(float) - 1)**gamma)*I[i,e]*I[j,e]"
   ]
  },
  {
   "cell_type": "code",
   "execution_count": 279,
   "metadata": {},
   "outputs": [
    {
     "data": {
      "text/plain": [
       "array([[0.        , 0.        , 0.        , 1.        ],\n",
       "       [0.        , 0.        , 0.43527528, 0.43527528],\n",
       "       [0.        , 0.43527528, 0.        , 0.43527528],\n",
       "       [1.        , 0.43527528, 0.43527528, 0.        ]])"
      ]
     },
     "execution_count": 279,
     "metadata": {},
     "output_type": "execute_result"
    }
   ],
   "source": [
    "K"
   ]
  },
  {
   "cell_type": "code",
   "execution_count": 280,
   "metadata": {},
   "outputs": [],
   "source": [
    "T = K.copy()\n",
    "for i in range(len(A)):\n",
    "    norm = np.sum(K[i])\n",
    "    for j in range(len(A)):\n",
    "        T[i,j] = K[i,j] / norm"
   ]
  },
  {
   "cell_type": "code",
   "execution_count": 281,
   "metadata": {},
   "outputs": [
    {
     "data": {
      "text/plain": [
       "array([[0.        , 0.        , 0.        , 1.        ],\n",
       "       [0.        , 0.        , 0.5       , 0.5       ],\n",
       "       [0.        , 0.5       , 0.        , 0.5       ],\n",
       "       [0.53460196, 0.23269902, 0.23269902, 0.        ]])"
      ]
     },
     "execution_count": 281,
     "metadata": {},
     "output_type": "execute_result"
    }
   ],
   "source": [
    "T"
   ]
  },
  {
   "cell_type": "code",
   "execution_count": 282,
   "metadata": {},
   "outputs": [
    {
     "data": {
      "text/plain": [
       "array([0.21684205, 0.18877197, 0.18877197, 0.40561402])"
      ]
     },
     "execution_count": 282,
     "metadata": {},
     "output_type": "execute_result"
    }
   ],
   "source": [
    "#We have to transpose so that Markov transitions correspond to right multiplying by a column vector.  np.linalg.eig finds right eigenvectors.\n",
    "evals, evecs = np.linalg.eig(T.T)\n",
    "evec1 = evecs[:,np.isclose(evals, 1)]\n",
    "\n",
    "#Since np.isclose will return an array, we've indexed with an array\n",
    "#so we still have our 2nd axis.  Get rid of it, since it's only size 1.\n",
    "evec1 = evec1[:,0]\n",
    "\n",
    "stationary = evec1 / evec1.sum()\n",
    "\n",
    "#eigs finds complex eigenvalues and eigenvectors, so you'll want the real part.\n",
    "stationary = stationary.real\n",
    "\n",
    "stationary"
   ]
  },
  {
   "cell_type": "code",
   "execution_count": 290,
   "metadata": {},
   "outputs": [],
   "source": [
    "stat_dist_gamma = [[], [], [], []]\n",
    "\n",
    "gamma_range = np.linspace(-10, 10, 30)\n",
    "\n",
    "for gamma in gamma_range:\n",
    "    K = np.zeros((len(A), len(A)))\n",
    "    for i in range(len(A)):\n",
    "        for j in range(len(A)):\n",
    "            if i == j:\n",
    "                pass \n",
    "            else:\n",
    "                for e in range(len(I[0])):\n",
    "                    K[i,j] += ((C_hat[e,e].astype(float) - 1)**gamma)*I[i,e]*I[j,e]\n",
    "    T = K.copy()\n",
    "    for i in range(len(A)):\n",
    "        norm = np.sum(K[i])\n",
    "        for j in range(len(A)):\n",
    "            T[i,j] = K[i,j] / norm\n",
    "            \n",
    "    #We have to transpose so that Markov transitions correspond to right multiplying by a column vector.  np.linalg.eig finds right eigenvectors.\n",
    "    evals, evecs = np.linalg.eig(T.T)\n",
    "    evec1 = evecs[:,np.isclose(evals, 1)]\n",
    "\n",
    "    #Since np.isclose will return an array, we've indexed with an array\n",
    "    #so we still have our 2nd axis.  Get rid of it, since it's only size 1.\n",
    "    evec1 = evec1[:,0]\n",
    "\n",
    "    stationary = evec1 / evec1.sum()\n",
    "\n",
    "    #eigs finds complex eigenvalues and eigenvectors, so you'll want the real part.\n",
    "    stationary = stationary.real\n",
    "    for i in range(len(stationary)):\n",
    "        stat_dist_gamma[i].append(stationary[i])"
   ]
  },
  {
   "cell_type": "code",
   "execution_count": 291,
   "metadata": {},
   "outputs": [
    {
     "data": {
      "image/png": "[encoded data removed]",
      "text/plain": [
       "<Figure size 432x288 with 1 Axes>"
      ]
     },
     "metadata": {
      "needs_background": "light"
     },
     "output_type": "display_data"
    }
   ],
   "source": [
    "for i in range(len(stat_dist_gamma)):\n",
    "    plt.plot(gamma_range, stat_dist_gamma[i])"
   ]
  },
  {
   "cell_type": "code",
   "execution_count": 292,
   "metadata": {},
   "outputs": [],
   "source": [
    "stat_dist_gamma = [[], [], [], []]\n",
    "\n",
    "gamma_range = np.linspace(-2, 2, 30)\n",
    "\n",
    "for gamma in gamma_range:\n",
    "    K = np.zeros((len(A), len(A)))\n",
    "    for i in range(len(A)):\n",
    "        for j in range(len(A)):\n",
    "            if i == j:\n",
    "                pass \n",
    "            else:\n",
    "                for e in range(len(I[0])):\n",
    "                    K[i,j] += ((C_hat[e,e].astype(float) - 1)**gamma)*I[i,e]*I[j,e]\n",
    "    T = K.copy()\n",
    "    for i in range(len(A)):\n",
    "        norm = np.sum(K[i])\n",
    "        for j in range(len(A)):\n",
    "            T[i,j] = K[i,j] / norm\n",
    "            \n",
    "    #We have to transpose so that Markov transitions correspond to right multiplying by a column vector.  np.linalg.eig finds right eigenvectors.\n",
    "    evals, evecs = np.linalg.eig(T.T)\n",
    "    evec1 = evecs[:,np.isclose(evals, 1)]\n",
    "\n",
    "    #Since np.isclose will return an array, we've indexed with an array\n",
    "    #so we still have our 2nd axis.  Get rid of it, since it's only size 1.\n",
    "    evec1 = evec1[:,0]\n",
    "\n",
    "    stationary = evec1 / evec1.sum()\n",
    "\n",
    "    #eigs finds complex eigenvalues and eigenvectors, so you'll want the real part.\n",
    "    stationary = stationary.real\n",
    "    for i in range(len(stationary)):\n",
    "        stat_dist_gamma[i].append(stationary[i])"
   ]
  },
  {
   "cell_type": "code",
   "execution_count": 293,
   "metadata": {},
   "outputs": [
    {
     "data": {
      "image/png": "[encoded data removed]",
      "text/plain": [
       "<Figure size 432x288 with 1 Axes>"
      ]
     },
     "metadata": {
      "needs_background": "light"
     },
     "output_type": "display_data"
    }
   ],
   "source": [
    "for i in range(len(stat_dist_gamma)):\n",
    "    plt.plot(gamma_range, stat_dist_gamma[i])"
   ]
  },
  {
   "cell_type": "markdown",
   "metadata": {},
   "source": [
    "## Application to a larger graph"
   ]
  },
  {
   "cell_type": "code",
   "execution_count": 42,
   "metadata": {},
   "outputs": [
    {
     "data": {
      "text/plain": [
       "'e4'"
      ]
     },
     "execution_count": 42,
     "metadata": {},
     "output_type": "execute_result"
    }
   ],
   "source": [
    "H = UndirectedHypergraph()\n",
    "H.add_nodes([1,2,3,4,5,6,7,8,9,10])\n",
    "H.add_hyperedge([1,2,3])\n",
    "H.add_hyperedge([4,5,3])\n",
    "H.add_hyperedge([3, 6])\n",
    "H.add_hyperedge([6,7,8,9,10])"
   ]
  },
  {
   "cell_type": "code",
   "execution_count": 43,
   "metadata": {},
   "outputs": [],
   "source": [
    "node_map = undirected_matrices.get_node_mapping(H)[1]\n",
    "edge_map = undirected_matrices.get_hyperedge_id_mapping(H)[1]"
   ]
  },
  {
   "cell_type": "code",
   "execution_count": 44,
   "metadata": {},
   "outputs": [
    {
     "data": {
      "text/plain": [
       "(10, 4)"
      ]
     },
     "execution_count": 44,
     "metadata": {},
     "output_type": "execute_result"
    }
   ],
   "source": [
    "I = undirected_matrices.get_incidence_matrix(H, node_map, edge_map)\n",
    "np.shape(I)"
   ]
  },
  {
   "cell_type": "code",
   "execution_count": 45,
   "metadata": {},
   "outputs": [],
   "source": [
    "I = I.toarray()\n",
    "A = I.dot(I.T)\n",
    "\n",
    "# Hyper-Incidence Matrix\n",
    "A = A -np.diag(np.diag(A))\n",
    "\n",
    "# Hyperedges Matrix\n",
    "C = I.T.dot(I)\n",
    "C_hat = np.diag(np.diag(C))"
   ]
  },
  {
   "cell_type": "code",
   "execution_count": 46,
   "metadata": {},
   "outputs": [
    {
     "data": {
      "image/png": "[encoded data removed]",
      "text/plain": [
       "<Figure size 432x288 with 1 Axes>"
      ]
     },
     "metadata": {},
     "output_type": "display_data"
    }
   ],
   "source": [
    "nx_graph = nx.from_numpy_matrix(A)\n",
    "nx.draw(nx_graph)"
   ]
  },
  {
   "cell_type": "code",
   "execution_count": 107,
   "metadata": {},
   "outputs": [],
   "source": [
    "# PageRank functions\n",
    "\n",
    "def power_iteration(A, num_simulations: int):\n",
    "\n",
    "    # Code taken from \"https://en.wikipedia.org/wiki/Power_iteration\"\n",
    "    b_k = np.random.rand(A.shape[1])\n",
    "\n",
    "    for _ in range(num_simulations):\n",
    "        # calculate the matrix-by-vector product Ab\n",
    "        b_k1 = np.dot(A, b_k)\n",
    "\n",
    "        # calculate the norm\n",
    "        b_k1_norm = np.linalg.norm(b_k1, 1)\n",
    "\n",
    "        # re normalize the vector\n",
    "        b_k = b_k1 / b_k1_norm\n",
    "\n",
    "    return b_k\n",
    "\n",
    "def hg_pagerank_power(T, alpha, num_sims):\n",
    "    nodes = list(range(len(T)))\n",
    "    n = len(nodes)\n",
    "\n",
    "    T = alpha*T + (1-alpha)/n*np.ones((n,n)) # PageRank w/ teleportation\n",
    "    \n",
    "    res_pgrk = power_iteration(T.T, 100) # power method\n",
    "    \n",
    "    return res_pgrk\n",
    "\n",
    "def hg_pagerank_full_eig_decomp(T, alpha):\n",
    "    \"\"\"\n",
    "    \n",
    "    Computes the pagerank for a Hypergraph H, for a random walk determined by transition matrix T.\n",
    "    Computes by finding the left eigenvector associated to the eigenvalue \\lambda = 1\n",
    "    Does so by finding all eigenpairs of the matrix and then filtered\n",
    "    (Takes long time for large matrices, see hg_pagerank_fast instead)\n",
    "    \n",
    "    \"\"\"\n",
    "    \n",
    "    \n",
    "    # p(t+1)_i = a * p(t)_i*T + (1-a)/n * 1\n",
    "    \n",
    "    nodes = list(range(len(T)))\n",
    "    n = len(nodes)\n",
    "    \n",
    "    T = alpha*T + (1-alpha)/n*np.ones((n,n))\n",
    "    \n",
    "    # Find the right eigenvalue associated with the 1 eigenvalue (note the transpose of T)\n",
    "    values, vectors = np.linalg.eig(T.T)\n",
    "    vector = vectors[:,np.isclose(values, 1)] # find correct evector, code used from: \n",
    "    vector = vector[:,0]\n",
    "    \n",
    "    # normalise the stationary distribution\n",
    "    stat_dist = vector / vector.sum()\n",
    "    stat_dist = stat_dist.real\n",
    "    \n",
    "    \n",
    "    #return the hypergraph PageRank\n",
    "    return stat_dist\n",
    "\n",
    "\n",
    "def find_pgrk(I, gamma):\n",
    "    # compute the pagerank of the non-linear walker on hypergraph with incidence matrix I and bias parameter gamma\n",
    "    \n",
    "    # generate incidence matrix of hypergraph of N nodes, sqrt(N) hyperedges via E-R model\n",
    "    \n",
    "    # hyper-adjacency matrix\n",
    "    A = I @ I.T\n",
    "    # hyper-edges matrix\n",
    "    C = I.T @ I\n",
    "    \n",
    "    # generate transition matrix for PageRank\n",
    "    \n",
    "    C_hat = np.diag(np.diag(C))\n",
    "\n",
    "    K = np.zeros((len(A), len(A)))\n",
    "    C_alt = np.diag(np.diag((C_hat - 1).astype(float)**gamma))\n",
    "    C_alt = np.nan_to_num(C_alt, nan = 0, posinf = 0)\n",
    "\n",
    "    K = (I @ C_alt @ I.T).astype(float)\n",
    "    K = K - np.diag(np.diag(K)) # simple walk => remove diagonal entries\n",
    "\n",
    "\n",
    "    T = np.zeros((len(A), len(A)))\n",
    "    for i in range(len(A)):\n",
    "        norm = np.sum(K[i])\n",
    "        if norm ==0:\n",
    "            pass\n",
    "        else:\n",
    "            T[i, :] = K[i] / norm\n",
    "            \n",
    "    #res_pgrk = hg_pagerank_power(T, 0.85, 1000) # compute pagerank using power method\n",
    "    res_pgrk = hg_pagerank_full_eig_decomp(T, 0.85)\n",
    "    return res_pgrk\n",
    "    "
   ]
  },
  {
   "cell_type": "code",
   "execution_count": 105,
   "metadata": {},
   "outputs": [
    {
     "name": "stderr",
     "output_type": "stream",
     "text": [
      "C:\\Anaconda3\\lib\\site-packages\\ipykernel_launcher.py:77: RuntimeWarning: invalid value encountered in power\n"
     ]
    }
   ],
   "source": [
    "gamma_list = np.linspace(-10, 10)\n",
    "pgrk_results = []\n",
    "pgrk_results_dict = {}\n",
    "\n",
    "for gamma in gamma_list:\n",
    "    pgrk_results.append(find_pgrk(I, gamma))\n",
    "    \n",
    "# unpacking results for each node\n",
    "for node in range(len(pgrk_results[0])):\n",
    "    pgrk_results_dict[node] = [res[node] for res in pgrk_results]"
   ]
  },
  {
   "cell_type": "code",
   "execution_count": 110,
   "metadata": {},
   "outputs": [
    {
     "data": {
      "image/png": "[encoded data removed]",
      "text/plain": [
       "<Figure size 540x360 with 1 Axes>"
      ]
     },
     "metadata": {
      "needs_background": "light"
     },
     "output_type": "display_data"
    }
   ],
   "source": [
    "node_list = [0, 2, 5, 6]\n",
    "\n",
    "\n",
    "plt.figure(figsize = (7.5,5))\n",
    "\n",
    "colors = {}\n",
    "colors[0] = \"darkgreen\"\n",
    "colors[2] = \"mediumspringgreen\"\n",
    "colors[5] = \"darkturquoise\"\n",
    "colors[6] = \"royalblue\"\n",
    "\n",
    "for node in pgrk_results_dict:\n",
    "    if node in node_list:\n",
    "        plt.plot(gamma_list, pgrk_results_dict[node], color = colors[node])\n",
    "    else:\n",
    "        pass\n",
    "        \n",
    "    plt.legend(list(range(11)))\n",
    "    \n",
    "plt.title(\"Effect of Bias $\\gamma$ on PageRank Scores, $\\\\alpha = 0.85$\", fontsize = 16)\n",
    "plt.xlabel(\"Walker Bias, $\\gamma$\", fontsize = 16)\n",
    "plt.ylabel(\"Node Centrality\", fontsize = 16)\n",
    "plt.legend([\"$G_1$\", \"$G_2$\", \"$G_3$\", \"$G_4$\"], prop = {\"size\" : 14})\n",
    "#plt.savefig(\"imgs/bias_PageRank.pdf\", bbox_inches = \"tight\")"
   ]
  },
  {
   "cell_type": "code",
   "execution_count": 96,
   "metadata": {},
   "outputs": [
    {
     "name": "stderr",
     "output_type": "stream",
     "text": [
      "C:\\Anaconda3\\lib\\site-packages\\ipykernel_launcher.py:77: RuntimeWarning: invalid value encountered in power\n"
     ]
    }
   ],
   "source": [
    "gamma_list = np.linspace(-10, 10)\n",
    "pgrk_results = []\n",
    "pgrk_results_dict = {}\n",
    "\n",
    "for gamma in gamma_list:\n",
    "    pgrk_results.append(find_pgrk(I, gamma))\n",
    "    \n",
    "# unpacking results for each node\n",
    "for node in range(len(pgrk_results[0])):\n",
    "    pgrk_results_dict[node] = [res[node] for res in pgrk_results]"
   ]
  },
  {
   "cell_type": "code",
   "execution_count": 97,
   "metadata": {},
   "outputs": [
    {
     "data": {
      "text/plain": [
       "<matplotlib.lines.Line2D at 0x25d031ecc18>"
      ]
     },
     "execution_count": 97,
     "metadata": {},
     "output_type": "execute_result"
    },
    {
     "data": {
      "image/png": "[encoded data removed]",
      "text/plain": [
       "<Figure size 540x360 with 1 Axes>"
      ]
     },
     "metadata": {
      "needs_background": "light"
     },
     "output_type": "display_data"
    }
   ],
   "source": [
    "node_list = [0, 2, 5, 6]\n",
    "\n",
    "plt.figure(figsize = (7.5,5))\n",
    "\n",
    "colors = {}\n",
    "colors[0] = \"darkgreen\"\n",
    "colors[2] = \"mediumspringgreen\"\n",
    "colors[5] = \"darkturquoise\"\n",
    "colors[6] = \"royalblue\"\n",
    "\n",
    "for node in pgrk_results_dict:\n",
    "    if node in node_list:\n",
    "        plt.plot(gamma_list, pgrk_results_dict[node], color = colors[node])\n",
    "    else:\n",
    "        pass\n",
    "        \n",
    "    plt.legend(list(range(11)))\n",
    "    \n",
    "plt.title(\"Effect of Bias $\\gamma$ on Stationary Distribution\", fontsize = 16)\n",
    "plt.xlabel(\"Walker Bias, $\\gamma$\", fontsize = 16)\n",
    "plt.ylabel(\"Node Centrality\", fontsize = 16)\n",
    "plt.legend([\"$G_1$\", \"$G_2$\", \"$G_3$\", \"$G_4$\"], prop = {\"size\" : 14})\n",
    "plt.axhline(1/2, linestyle = \"--\", alpha = 0.5, color = \"gray\")\n",
    "plt.axhline(1/5, linestyle = \"--\", alpha = 0.5, color = \"gray\")\n"
   ]
  },
  {
   "cell_type": "code",
   "execution_count": 50,
   "metadata": {},
   "outputs": [
    {
     "ename": "KeyboardInterrupt",
     "evalue": "",
     "output_type": "error",
     "traceback": [
      "\u001b[1;31m---------------------------------------------------------------------------\u001b[0m",
      "\u001b[1;31mKeyboardInterrupt\u001b[0m                         Traceback (most recent call last)",
      "\u001b[1;32m<ipython-input-50-c5b59aad29c7>\u001b[0m in \u001b[0;36m<module>\u001b[1;34m\u001b[0m\n\u001b[0;32m     12\u001b[0m \u001b[0mn\u001b[0m \u001b[1;33m=\u001b[0m \u001b[0mlen\u001b[0m\u001b[1;33m(\u001b[0m\u001b[0mnodes\u001b[0m\u001b[1;33m)\u001b[0m\u001b[1;33m\u001b[0m\u001b[0m\n\u001b[0;32m     13\u001b[0m \u001b[1;33m\u001b[0m\u001b[0m\n\u001b[1;32m---> 14\u001b[1;33m \u001b[0mT\u001b[0m \u001b[1;33m=\u001b[0m \u001b[0malpha\u001b[0m\u001b[1;33m*\u001b[0m\u001b[0mT\u001b[0m \u001b[1;33m+\u001b[0m \u001b[1;33m(\u001b[0m\u001b[1;36m1\u001b[0m\u001b[1;33m-\u001b[0m\u001b[0malpha\u001b[0m\u001b[1;33m)\u001b[0m\u001b[1;33m/\u001b[0m\u001b[0mn\u001b[0m\u001b[1;33m*\u001b[0m\u001b[0mnp\u001b[0m\u001b[1;33m.\u001b[0m\u001b[0mones\u001b[0m\u001b[1;33m(\u001b[0m\u001b[1;33m(\u001b[0m\u001b[0mn\u001b[0m\u001b[1;33m,\u001b[0m\u001b[0mn\u001b[0m\u001b[1;33m)\u001b[0m\u001b[1;33m)\u001b[0m\u001b[1;33m\u001b[0m\u001b[0m\n\u001b[0m\u001b[0;32m     15\u001b[0m \u001b[1;33m\u001b[0m\u001b[0m\n\u001b[0;32m     16\u001b[0m \u001b[0ms1\u001b[0m \u001b[1;33m=\u001b[0m \u001b[0mtime\u001b[0m\u001b[1;33m.\u001b[0m\u001b[0mtime\u001b[0m\u001b[1;33m(\u001b[0m\u001b[1;33m)\u001b[0m\u001b[1;33m\u001b[0m\u001b[0m\n",
      "\u001b[1;32mC:\\Anaconda3\\lib\\site-packages\\numpy\\core\\numeric.py\u001b[0m in \u001b[0;36mones\u001b[1;34m(shape, dtype, order)\u001b[0m\n\u001b[0;32m    213\u001b[0m     \"\"\"\n\u001b[0;32m    214\u001b[0m     \u001b[0ma\u001b[0m \u001b[1;33m=\u001b[0m \u001b[0mempty\u001b[0m\u001b[1;33m(\u001b[0m\u001b[0mshape\u001b[0m\u001b[1;33m,\u001b[0m \u001b[0mdtype\u001b[0m\u001b[1;33m,\u001b[0m \u001b[0morder\u001b[0m\u001b[1;33m)\u001b[0m\u001b[1;33m\u001b[0m\u001b[0m\n\u001b[1;32m--> 215\u001b[1;33m     \u001b[0mmultiarray\u001b[0m\u001b[1;33m.\u001b[0m\u001b[0mcopyto\u001b[0m\u001b[1;33m(\u001b[0m\u001b[0ma\u001b[0m\u001b[1;33m,\u001b[0m \u001b[1;36m1\u001b[0m\u001b[1;33m,\u001b[0m \u001b[0mcasting\u001b[0m\u001b[1;33m=\u001b[0m\u001b[1;34m'unsafe'\u001b[0m\u001b[1;33m)\u001b[0m\u001b[1;33m\u001b[0m\u001b[0m\n\u001b[0m\u001b[0;32m    216\u001b[0m     \u001b[1;32mreturn\u001b[0m \u001b[0ma\u001b[0m\u001b[1;33m\u001b[0m\u001b[0m\n\u001b[0;32m    217\u001b[0m \u001b[1;33m\u001b[0m\u001b[0m\n",
      "\u001b[1;32m<__array_function__ internals>\u001b[0m in \u001b[0;36mcopyto\u001b[1;34m(*args, **kwargs)\u001b[0m\n",
      "\u001b[1;31mKeyboardInterrupt\u001b[0m: "
     ]
    }
   ],
   "source": [
    "# checking power method is faster than np.eig\n",
    "\n",
    "import time\n",
    "alpha = 0.85\n",
    "T = np.random.rand(10000, 10000)\n",
    "\n",
    "s2 = time.time()\n",
    "c_p = hg_pagerank_power(T, 0.85, 100)\n",
    "e2 = time.time()\n",
    "\n",
    "nodes = list(range(len(T)))\n",
    "n = len(nodes)\n",
    "\n",
    "T = alpha*T + (1-alpha)/n*np.ones((n,n))\n",
    "\n",
    "s1 = time.time()\n",
    "values, vectors = np.linalg.eig(T.T)\n",
    "vector = vectors[:,np.isclose(values, values.max())] \n",
    "vector = np.real(vector[:,0])\n",
    "e1 = time.time()"
   ]
  },
  {
   "cell_type": "code",
   "execution_count": 219,
   "metadata": {},
   "outputs": [
    {
     "data": {
      "text/plain": [
       "3.5074099998274346e-17"
      ]
     },
     "execution_count": 219,
     "metadata": {},
     "output_type": "execute_result"
    }
   ],
   "source": [
    "# checking they gave the same result \n",
    "np.linalg.norm(vector/np.sum(vector) - c_p)"
   ]
  },
  {
   "cell_type": "code",
   "execution_count": 220,
   "metadata": {},
   "outputs": [
    {
     "name": "stdout",
     "output_type": "stream",
     "text": [
      "287.5754671096802\n",
      "5.17415452003479\n"
     ]
    }
   ],
   "source": [
    "print(e1 - s1) # np.eig timing\n",
    "print(e2 - s2) # power method"
   ]
  },
  {
   "cell_type": "code",
   "execution_count": 58,
   "metadata": {},
   "outputs": [
    {
     "data": {
      "text/plain": [
       "<matplotlib.colorbar.Colorbar at 0x196217f7eb8>"
      ]
     },
     "execution_count": 58,
     "metadata": {},
     "output_type": "execute_result"
    },
    {
     "data": {
      "image/png": "[encoded data removed]",
      "text/plain": [
       "<Figure size 432x288 with 2 Axes>"
      ]
     },
     "metadata": {
      "needs_background": "light"
     },
     "output_type": "display_data"
    }
   ],
   "source": [
    "plt.imshow(res_matrix)\n",
    "plt.colorbar()"
   ]
  },
  {
   "cell_type": "code",
   "execution_count": 59,
   "metadata": {},
   "outputs": [],
   "source": [
    "gamma_range = np.linspace(-10, 10, 21)\n",
    "\n",
    "res_matrix = np.zeros((21, len(T)))\n",
    "\n",
    "count = 0\n",
    "for gamma in gamma_range:\n",
    "    K = np.zeros((len(A), len(A)))\n",
    "    for i in range(len(A)):\n",
    "        for j in range(len(A)):\n",
    "            if i == j:\n",
    "                pass \n",
    "            else:\n",
    "                for e in range(len(I[0])):\n",
    "                    K[i,j] += ((C_hat[e,e].astype(float) - 1)**gamma)*I[i,e]*I[j,e]\n",
    "    T = K.copy()\n",
    "    for i in range(len(A)):\n",
    "        norm = np.sum(K[i])\n",
    "        for j in range(len(A)):\n",
    "            T[i,j] = K[i,j] / norm\n",
    "            \n",
    "    res = hg_pagerank(H, T, 0.85, 1)\n",
    "    res_matrix[count] = res\n",
    "    count += 1"
   ]
  },
  {
   "cell_type": "code",
   "execution_count": 60,
   "metadata": {},
   "outputs": [
    {
     "data": {
      "text/plain": [
       "<matplotlib.colorbar.Colorbar at 0x19621a4fef0>"
      ]
     },
     "execution_count": 60,
     "metadata": {},
     "output_type": "execute_result"
    },
    {
     "data": {
      "image/png": "[encoded data removed]",
      "text/plain": [
       "<Figure size 432x288 with 2 Axes>"
      ]
     },
     "metadata": {
      "needs_background": "light"
     },
     "output_type": "display_data"
    }
   ],
   "source": [
    "plt.imshow(res_matrix)\n",
    "plt.colorbar()"
   ]
  },
  {
   "cell_type": "code",
   "execution_count": null,
   "metadata": {},
   "outputs": [],
   "source": []
  }
 ],
 "metadata": {
  "kernelspec": {
   "display_name": "Python 3",
   "language": "python",
   "name": "python3"
  }
 },
 "nbformat": 4,
 "nbformat_minor": 2
}
