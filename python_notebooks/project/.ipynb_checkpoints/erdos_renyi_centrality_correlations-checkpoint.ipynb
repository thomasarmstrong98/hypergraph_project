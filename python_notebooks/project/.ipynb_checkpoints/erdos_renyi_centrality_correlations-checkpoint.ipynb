{
 "cells": [
  {
   "cell_type": "code",
   "execution_count": 1,
   "metadata": {},
   "outputs": [],
   "source": [
    "import numpy as np\n",
    "import matplotlib.pyplot as plt\n",
    "import networkx as nx\n",
    "from halp.undirected_hypergraph import UndirectedHypergraph\n",
    "from halp.utilities import undirected_graph_transformations, undirected_matrices\n",
    "import scipy"
   ]
  },
  {
   "cell_type": "markdown",
   "metadata": {},
   "source": [
    "## E-R Hypergraph CEC vs $PG_{(\\gamma)}$\n",
    "\n",
    "Constructing hypergraphs via E-R model and comparing centrality measures. Note that we also started performing similar results on Preferential Attachment but did not put this in the report.\n",
    "\n"
   ]
  },
  {
   "cell_type": "code",
   "execution_count": 3,
   "metadata": {},
   "outputs": [],
   "source": [
    "def hg_pagerank_full_eig_decomp(T, alpha):\n",
    "    \"\"\"\n",
    "    \n",
    "    Computes the pagerank for a Hypergraph H, for a random walk determined by transition matrix T.\n",
    "    Computes by finding the left eigenvector associated to the eigenvalue \\lambda = 1\n",
    "    Does so by finding all eigenpairs of the matrix and then filtered\n",
    "    (Takes long time for large matrices, see hg_pagerank_fast instead)\n",
    "    \n",
    "    \"\"\"\n",
    "    \n",
    "    \n",
    "    # p(t+1)_i = a * p(t)_i*T + (1-a)/n * 1\n",
    "    \n",
    "    nodes = list(range(len(T)))\n",
    "    n = len(nodes)\n",
    "    \n",
    "    T = alpha*T + (1-alpha)/n*np.ones((n,n))\n",
    "    \n",
    "    # Find the right eigenvalue associated with the 1 eigenvalue (note the transpose of T)\n",
    "    values, vectors = np.linalg.eig(T.T)\n",
    "    vector = vectors[:,np.isclose(values, 1)] # find correct evector, code used from: \n",
    "    vector = vector[:,0]\n",
    "    \n",
    "    # normalise the stationary distribution\n",
    "    stat_dist = vector / vector.sum()\n",
    "    stat_dist = stat_dist.real\n",
    "    \n",
    "    \n",
    "    #return the hypergraph PageRank\n",
    "    return stat_dist"
   ]
  },
  {
   "cell_type": "code",
   "execution_count": 4,
   "metadata": {},
   "outputs": [],
   "source": [
    "def power_iteration(A, num_simulations: int):\n",
    "\n",
    "    # Code taken from \"https://en.wikipedia.org/wiki/Power_iteration\"\n",
    "    b_k = np.random.rand(A.shape[1])\n",
    "\n",
    "    for _ in range(num_simulations):\n",
    "        # calculate the matrix-by-vector product Ab\n",
    "        b_k1 = np.dot(A, b_k)\n",
    "\n",
    "        # calculate the norm\n",
    "        b_k1_norm = np.linalg.norm(b_k1, 1)\n",
    "\n",
    "        # re normalize the vector\n",
    "        b_k = b_k1 / b_k1_norm\n",
    "\n",
    "    return b_k\n",
    "\n",
    "def hg_pagerank_power(T, alpha, num_sims):\n",
    "    nodes = list(range(len(T)))\n",
    "    n = len(nodes)\n",
    "\n",
    "    T = alpha*T + (1-alpha)/n*np.ones((n,n)) # PageRank w/ teleportation\n",
    "    \n",
    "    res_pgrk = power_iteration(T.T, 100) # power method\n",
    "    \n",
    "    return res_pgrk"
   ]
  },
  {
   "cell_type": "markdown",
   "metadata": {},
   "source": [
    "### Example"
   ]
  },
  {
   "cell_type": "code",
   "execution_count": 5,
   "metadata": {},
   "outputs": [],
   "source": [
    "# generate a random bi-partite graph using Erdos-Renyi model.\n",
    "\n",
    "G = nx.bipartite.random_graph(10,7, 0.4)"
   ]
  },
  {
   "cell_type": "code",
   "execution_count": 6,
   "metadata": {},
   "outputs": [
    {
     "name": "stderr",
     "output_type": "stream",
     "text": [
      "C:\\Anaconda3\\lib\\site-packages\\networkx\\drawing\\nx_pylab.py:563: MatplotlibDeprecationWarning: \n",
      "The iterable function was deprecated in Matplotlib 3.1 and will be removed in 3.3. Use np.iterable instead.\n",
      "  if not cb.iterable(width):\n",
      "C:\\Anaconda3\\lib\\site-packages\\networkx\\drawing\\nx_pylab.py:611: MatplotlibDeprecationWarning: \n",
      "The is_numlike function was deprecated in Matplotlib 3.0 and will be removed in 3.2. Use isinstance(..., numbers.Number) instead.\n",
      "  if cb.is_numlike(alpha):\n"
     ]
    },
    {
     "data": {
      "image/png": "[encoded data removed]",
      "text/plain": [
       "<Figure size 432x288 with 1 Axes>"
      ]
     },
     "metadata": {},
     "output_type": "display_data"
    }
   ],
   "source": [
    "nx.draw(G)"
   ]
  },
  {
   "cell_type": "code",
   "execution_count": 322,
   "metadata": {},
   "outputs": [
    {
     "data": {
      "text/plain": [
       "array([[4, 2, 2, 1, 2, 0, 0, 0, 2, 1],\n",
       "       [2, 3, 3, 2, 0, 1, 0, 0, 1, 1],\n",
       "       [2, 3, 4, 3, 1, 1, 0, 0, 2, 1],\n",
       "       [1, 2, 3, 4, 2, 1, 1, 0, 3, 0],\n",
       "       [2, 0, 1, 2, 4, 0, 1, 0, 3, 0],\n",
       "       [0, 1, 1, 1, 0, 1, 0, 0, 0, 0],\n",
       "       [0, 0, 0, 1, 1, 0, 1, 0, 1, 0],\n",
       "       [0, 0, 0, 0, 0, 0, 0, 0, 0, 0],\n",
       "       [2, 1, 2, 3, 3, 0, 1, 0, 4, 0],\n",
       "       [1, 1, 1, 0, 0, 0, 0, 0, 0, 1]], dtype=int32)"
      ]
     },
     "execution_count": 322,
     "metadata": {},
     "output_type": "execute_result"
    }
   ],
   "source": [
    "I = nx.bipartite.biadjacency_matrix(G, row_order = range(10)).toarray() # incidence matrix\n",
    "A = I @ I.T # hyperadjacency matrix\n",
    "A"
   ]
  },
  {
   "cell_type": "code",
   "execution_count": 323,
   "metadata": {},
   "outputs": [],
   "source": [
    "C = I.T @ I\n",
    "C_hat = np.diag(np.diag(C))\n",
    "\n",
    "\n",
    "# compute the asymptotic walk distributions\n",
    "\n",
    "#         start_2 = time.time()\n",
    "##################################################################################\n",
    "\n",
    "# equal choice walker\n",
    "\n",
    "gamma = -1\n",
    "\n",
    "\n",
    "K_e = np.zeros((len(A), len(A)))\n",
    "C_alt = np.diag(np.diag((C_hat - 1).astype(float)**gamma)) #  constructing the matrix \\bar{C} of the report\n",
    "C_alt = np.nan_to_num(C_alt, nan = 0, posinf = 0)\n",
    "\n",
    "K_e = (I @ C_alt @ I.T).astype(float)\n",
    "K_e = K_e - np.diag(np.diag(K_e))\n",
    "\n",
    "\n",
    "T_e = np.zeros((len(A), len(A)))\n",
    "for i in range(len(A)):\n",
    "    norm = np.sum(K_e[i])\n",
    "    if norm == 0:\n",
    "        pass\n",
    "    else:\n",
    "        T_e[i, :] = K_e[i] / norm\n",
    "        \n",
    "        \n",
    "        \n",
    "gamma = 1\n",
    "\n",
    "\n",
    "K_n = np.zeros((len(A), len(A)))\n",
    "C_alt = np.diag(np.diag((C_hat - 1).astype(float)**gamma))\n",
    "C_alt = np.nan_to_num(C_alt, nan = 0, posinf = 0)\n",
    "\n",
    "K_n = (I @ C_alt @ I.T).astype(float)\n",
    "K_n = K_n - np.diag(np.diag(K_n))\n",
    "\n",
    "\n",
    "T_n = np.zeros((len(A), len(A)))\n",
    "for i in range(len(A)):\n",
    "    norm = np.sum(K_n[i])\n",
    "    if norm == 0:\n",
    "        pass\n",
    "    else:\n",
    "        T_n[i, :] = K_n[i] / norm"
   ]
  },
  {
   "cell_type": "code",
   "execution_count": 324,
   "metadata": {},
   "outputs": [],
   "source": [
    "C_bar = np.diag(np.diag((C_hat - 1).astype(float)**gamma))"
   ]
  },
  {
   "cell_type": "code",
   "execution_count": 325,
   "metadata": {},
   "outputs": [],
   "source": [
    "K = I @ C_bar @ I.T\n",
    "K = K - np.diag(np.diag(K))"
   ]
  },
  {
   "cell_type": "code",
   "execution_count": 326,
   "metadata": {},
   "outputs": [
    {
     "data": {
      "text/plain": [
       "<matplotlib.image.AxesImage at 0x226181fbc50>"
      ]
     },
     "execution_count": 326,
     "metadata": {},
     "output_type": "execute_result"
    },
    {
     "data": {
      "image/png": "[encoded data removed]",
      "text/plain": [
       "<Figure size 432x288 with 1 Axes>"
      ]
     },
     "metadata": {
      "needs_background": "light"
     },
     "output_type": "display_data"
    }
   ],
   "source": [
    "plt.imshow(K) # un-normalised transition matrix"
   ]
  },
  {
   "cell_type": "code",
   "execution_count": 18,
   "metadata": {},
   "outputs": [],
   "source": [
    "# Check that the matrix K = I x C_bar x I.T is symmetric\n",
    "\n",
    "def check_symmetric(a, rtol=1e-05, atol=1e-08):\n",
    "    return np.allclose(a, a.T, rtol=rtol, atol=atol)"
   ]
  },
  {
   "cell_type": "code",
   "execution_count": 19,
   "metadata": {},
   "outputs": [
    {
     "data": {
      "text/plain": [
       "True"
      ]
     },
     "execution_count": 19,
     "metadata": {},
     "output_type": "execute_result"
    }
   ],
   "source": [
    "check_symmetric(K)"
   ]
  },
  {
   "cell_type": "code",
   "execution_count": 327,
   "metadata": {},
   "outputs": [],
   "source": [
    "res_e = hg_pagerank_power(T_e, 0.85, 100) # calculate PageRank for uniform walker (gamma = -1)"
   ]
  },
  {
   "cell_type": "code",
   "execution_count": 328,
   "metadata": {},
   "outputs": [
    {
     "data": {
      "text/plain": [
       "array([0.14426037, 0.11614953, 0.14857462, 0.14761767, 0.14307385,\n",
       "       0.04756435, 0.04637982, 0.01519629, 0.14386007, 0.04732343])"
      ]
     },
     "execution_count": 328,
     "metadata": {},
     "output_type": "execute_result"
    }
   ],
   "source": [
    "res_e"
   ]
  },
  {
   "cell_type": "code",
   "execution_count": 329,
   "metadata": {},
   "outputs": [],
   "source": [
    "res_n = hg_pagerank_power(T_n, 0.85, 100) # calculate PageRank for structured walker (gamma = 1)"
   ]
  },
  {
   "cell_type": "code",
   "execution_count": 330,
   "metadata": {},
   "outputs": [
    {
     "data": {
      "text/plain": [
       "array([0.12159512, 0.13757147, 0.16972783, 0.16991434, 0.09686759,\n",
       "       0.04605431, 0.04649961, 0.01519629, 0.15025647, 0.04631697])"
      ]
     },
     "execution_count": 330,
     "metadata": {},
     "output_type": "execute_result"
    }
   ],
   "source": [
    "res_n"
   ]
  },
  {
   "cell_type": "code",
   "execution_count": 331,
   "metadata": {},
   "outputs": [
    {
     "data": {
      "text/plain": [
       "array([[1.        , 0.92925985],\n",
       "       [0.92925985, 1.        ]])"
      ]
     },
     "execution_count": 331,
     "metadata": {},
     "output_type": "execute_result"
    }
   ],
   "source": [
    "np.corrcoef(res_e, res_n) # correlation between the two measures"
   ]
  },
  {
   "cell_type": "markdown",
   "metadata": {},
   "source": [
    "### Generalisation to larger random graphs"
   ]
  },
  {
   "cell_type": "code",
   "execution_count": 261,
   "metadata": {},
   "outputs": [],
   "source": [
    "import time\n",
    "\n",
    "def compute_pgrk_correlations(num_list, gamma_1, gamma_2, graph_sparsity):\n",
    "    \"\"\"\n",
    "    Computes the correlation between two PageRank centralities with biases gamma_1 and gamma_2 resepectively\n",
    "    on hypergraphs on sizes provided by num_list. Hypergraphs are generated by Erdos Renyi bipartite model.\n",
    "    \n",
    "    =======================================================================================================\n",
    "    \n",
    "    Parameters:\n",
    "    \n",
    "    num_list - list of sizes of hypergraphs you want to compare centrality measures on\n",
    "             - eg. num_list = np.logspace(1, 3, 10).astype(int)\n",
    "    gamma_1, gamma_2 - walker biases for the PageRanks\n",
    "    graph_sparsity - probability of a connection in the bipartite E-R model.\n",
    "    \n",
    "    \n",
    "    Returns:\n",
    "    \n",
    "    corr_hist - correlations of the PageRanks on random graphs of specified size.\n",
    "    \n",
    "    \"\"\"\n",
    "    \n",
    "    \n",
    "    corr_hist = []\n",
    "    \n",
    "    for N in num_list:\n",
    "\n",
    "        # generate a random bipartite graph of N nodes and \\sqrt(N) hyperedges\n",
    "        \n",
    "        G = nx.bipartite.random_graph(N, np.round(np.sqrt(N),0).astype(int), graph_sparsity)\n",
    "         \n",
    "        # compute required matrices\n",
    "            \n",
    "        I = nx.bipartite.biadjacency_matrix(G, row_order = range(N)).toarray()\n",
    "        A = I @ I.T\n",
    "        A = A - np.diag(np.diag(A))\n",
    "        C = I.T @ I\n",
    "        C_hat = np.diag(np.diag(C))\n",
    "\n",
    "        # compute the asymptotic walk distributions\n",
    "\n",
    "        ##################################################################################\n",
    "\n",
    "        # construct transition matrix of random walker with bias gamma_1\n",
    "\n",
    "        gamma = gamma_1\n",
    "\n",
    "\n",
    "        K_e = np.zeros((len(A), len(A)))\n",
    "        C_alt = np.diag(np.diag((C_hat - 1).astype(float)**gamma)) # \\bar{C} in the report\n",
    "        C_alt = np.nan_to_num(C_alt, nan = 0, posinf = 0)\n",
    "\n",
    "        K_e = (I @ C_alt @ I.T).astype(float)\n",
    "        K_e = K_e - np.diag(np.diag(K_e))\n",
    "\n",
    "\n",
    "        T_e = np.zeros((len(A), len(A)))\n",
    "        for i in range(len(A)):\n",
    "            norm = np.sum(K_e[i])\n",
    "            if norm == 0:\n",
    "                pass\n",
    "            else:\n",
    "                T_e[i, :] = K_e[i] / norm\n",
    "\n",
    "        ###################################################################################\n",
    "\n",
    "        # construct transition matrix of random walker with bias gamma_2\n",
    "\n",
    "        gamma = gamma_2\n",
    "\n",
    "        K_n = np.zeros((len(A), len(A)))\n",
    "        C_alt = np.diag(np.diag((C_hat - 1).astype(float)**gamma)) # \\bar{C} in the report\n",
    "        C_alt = np.nan_to_num(C_alt, nan = 0, posinf = 0)\n",
    "\n",
    "        K_n = (I @ C_alt @ I.T).astype(float)\n",
    "        K_n = K_n - np.diag(np.diag(K_n))\n",
    "\n",
    "\n",
    "        T_n = np.zeros((len(A), len(A)))\n",
    "        for i in range(len(A)):\n",
    "            norm = np.sum(K_n[i])\n",
    "            if norm == 0:\n",
    "                pass\n",
    "            else:\n",
    "                T_n[i, :] = K_n[i] / norm\n",
    "                \n",
    "        ##################################################################################\n",
    "        \n",
    "                \n",
    "        # calculate PageRank of walkers with specified biases.\n",
    "        \n",
    "        res_e = hg_pagerank_power(T_e, 0.85, 100)\n",
    "        res_w = hg_pagerank_power(T_n, 0.85, 100)\n",
    "                \n",
    "        corr_hist.append(np.corrcoef(res_e, res_w)[0,1])\n",
    "        \n",
    "    return corr_hist"
   ]
  },
  {
   "cell_type": "code",
   "execution_count": 332,
   "metadata": {},
   "outputs": [],
   "source": [
    "# computing correlation between PageRank and the CEC measure\n",
    "\n",
    "def generate_er_hypergraph(N, a):\n",
    "    \"\"\"\n",
    "    \n",
    "    Generates a random hypergraph by creating a bipartite network sing the Erdo-Renyi model.\n",
    "    \n",
    "    ========================================================================================\n",
    "    \n",
    "    Parameters:\n",
    "    \n",
    "    N - size of the hypergraph (int)\n",
    "    a - sparisty of bipartite network (prob of a connection)\n",
    "    \n",
    "    Returns:\n",
    "    \n",
    "    I - incidence matrix of the hypergraph\n",
    "    \n",
    "    \"\"\"\n",
    "\n",
    "    G = nx.bipartite.random_graph(N, np.round(np.sqrt(N),0).astype(int), a)\n",
    "    I = nx.bipartite.biadjacency_matrix(G, row_order = range(N)).toarray()\n",
    "    return I\n",
    "    \n",
    "    \n",
    "def compute_cec_ranking_svd(A):\n",
    "    \"\"\"\n",
    "    \n",
    "    Computes the CEC centrality measure using the SVD decompostion.\n",
    "    \n",
    "    ===============================================================\n",
    "    \n",
    "    Parameters:\n",
    "    \n",
    "    A - hyperadjacency matrix of hypergraph\n",
    "    \n",
    "    Returns:\n",
    "    \n",
    "    c - the CEC centrality scores\n",
    "    \n",
    "    \n",
    "    \"\"\"\n",
    "    \n",
    "    \n",
    "    # using best rank one approximation\n",
    "    rank = 1\n",
    "\n",
    "    # Perform SVD on im and obtain individual matrices\n",
    "    P, D, Q = np.linalg.svd(A, full_matrices=True)\n",
    "    \n",
    "    return np.abs(P[:, :rank].T[0]) / np.abs(np.sum(P[:, :rank].T[0]))\n",
    "\n",
    "\n",
    "def compute_cec_ranking_power(A, num_sims):\n",
    "    \"\"\"\n",
    "    \n",
    "    Computes the CEC centrality measure using the power method.\n",
    "    Code for the power method was altered from:\n",
    "    \n",
    "    https://en.wikipedia.org/wiki/Power_iteration\n",
    "    \n",
    "    \n",
    "    ============================================================\n",
    "    \n",
    "    Parameters:\n",
    "    \n",
    "    A - hyperadjacency matrix of hypergraph\n",
    "    num_sims - number of multiplications in the power method\n",
    "    \n",
    "    Returns:\n",
    "    \n",
    "    c - the CEC centrality scores\n",
    "    \n",
    "    \n",
    "    \"\"\"\n",
    "    \n",
    "    b_k = np.random.rand(len(A))\n",
    "\n",
    "    for _ in range(num_sims):\n",
    "        # calculate the matrix-by-vector product Ab\n",
    "        b_k1 = np.dot(A, b_k)\n",
    "\n",
    "        # calculate the norm\n",
    "        b_k1_norm = np.linalg.norm(b_k1,1) # 1-norm normalisation\n",
    "\n",
    "        # re normalize the vector\n",
    "        b_k = b_k1 / b_k1_norm\n",
    "\n",
    "    return b_k\n",
    "\n",
    "\n",
    "def find_pgrk(I, gamma, alpha = 0.85):\n",
    "    \n",
    "    \"\"\"\n",
    "    Computes the PageRank measure $PG_{(\\gamma)}$ with bias gamma for a hypergraph with incidence matrix I\n",
    "    and teleportation parameter alpha.\n",
    "    \n",
    "    =======================================================================================================\n",
    "    \n",
    "    Parameters:\n",
    "    \n",
    "    I - incidence matrix of hypergraph\n",
    "    gamma - bias of walker, as discussed in report\n",
    "    alpha - PageRank teleporation parameter (default = 0.85)\n",
    "    \n",
    "    Returns:\n",
    "    res_pgrk - the PageRank measures for the nodes of the hypergraph\n",
    "    \n",
    "    \"\"\"\n",
    "    \n",
    "    # compute the pagerank of the non-linear walker on hypergraph with incidence matrix I and bias parameter gamma\n",
    "    \n",
    "    # generate incidence matrix of hypergraph of N nodes, sqrt(N) hyperedges via E-R model\n",
    "    \n",
    "    # hyper-adjacency matrix\n",
    "    A = I @ I.T\n",
    "    # hyper-edges matrix\n",
    "    C = I.T @ I\n",
    "    \n",
    "    # generate transition matrix for PageRank\n",
    "    \n",
    "    C_hat = np.diag(np.diag(C))\n",
    "\n",
    "    K = np.zeros((len(A), len(A)))\n",
    "    C_alt = np.diag(np.diag((C_hat - 1).astype(float)**gamma))\n",
    "    C_alt = np.nan_to_num(C_alt, nan = 0, posinf = 0)\n",
    "\n",
    "    K = (I @ C_alt @ I.T).astype(float)\n",
    "    K = K - np.diag(np.diag(K)) # simple walk => remove diagonal entries\n",
    "\n",
    "\n",
    "    T = np.zeros((len(A), len(A))) # normalising matrix I \\bar{C} I to generate tranisiton matrix\n",
    "    for i in range(len(A)):\n",
    "        norm = np.sum(K[i])\n",
    "        if norm ==0:\n",
    "            pass\n",
    "        else:\n",
    "            T[i, :] = K[i] / norm\n",
    "            \n",
    "    res_pgrk = hg_pagerank_power(T, alpha, 1000) # compute pagerank using power method, use for large matrices T\n",
    "    #res_pgrk = hg_pagerank_full_eig_decomp(T, alpha) # use eigendecomp when $\\alpha = 1$ as more stable and for small graphs\n",
    "    return res_pgrk \n",
    "\n",
    "\n",
    "\n",
    "def compute_centrality_measures(I, gamma, alpha):\n",
    "    \"\"\"\n",
    "    \n",
    "    Takes a graph with incidence matrix I and computes its CEC node ranking and\n",
    "    the PageRank ranking with parameters gamma and alpha.\n",
    "    \n",
    "    ===========================================================================\n",
    "    \n",
    "    Parameters:\n",
    "    \n",
    "    I - incidence matrix of hypergraph\n",
    "    gamma - walk bias for PageRank\n",
    "    alpha - teleportation bias for PageRank\n",
    "    \n",
    "    Returns:\n",
    "    \n",
    "    cec - CEC node measure\n",
    "    pgrk - PageRank node measure\n",
    "    \"\"\"\n",
    "    \n",
    "    A = I @ I.T\n",
    "    cec = compute_cec_ranking_power(A, 100)\n",
    "    pgrk = find_pgrk(I, gamma, alpha)\n",
    "    return cec, pgrk\n",
    "\n",
    "\n",
    "\n",
    "def compute_correlation_cec_pgrk(num_list, gamma, alpha, scale_factor):\n",
    "    \"\"\"\n",
    "    \n",
    "    Compute the correlation between CEC and specific PageRank node measures for\n",
    "    random Erdos-Renyi hypergraphs.\n",
    "    \n",
    "    ============================================================================\n",
    "    \n",
    "    Parameters:\n",
    "    \n",
    "    num_list - list of sizes of graphs considered (int)\n",
    "    gamma - walk bias for PageRank\n",
    "    alpha - teletportation bias for PageRank\n",
    "    scale_factor - sparsity of E-R model.\n",
    "    \n",
    "    Returns:\n",
    "    \n",
    "    corr_hist - the correlation between the measures for randm hypergraphs of\n",
    "                specified size\n",
    "    \n",
    "    \"\"\"\n",
    "    \n",
    "    corr_list = [0]*len(num_list)\n",
    "    for idx in range(len(num_list)):\n",
    "        #print(idx)\n",
    "        N = num_list[idx]\n",
    "        start = time.time()\n",
    "        I = generate_er_hypergraph(N, scale_factor)\n",
    "        #print(time.time() - start)\n",
    "        start = time.time()\n",
    "        cec, pgrk = compute_centrality_measures(I, gamma, alpha)\n",
    "        #print(time.time() - start)\n",
    "        corr_list[idx] = np.corrcoef(cec, pgrk)[0,1]\n",
    "    return corr_list"
   ]
  },
  {
   "cell_type": "markdown",
   "metadata": {},
   "source": [
    "## Computing Correlation between CEC and PageRank for graphs of different size and different bias parameters."
   ]
  },
  {
   "cell_type": "code",
   "execution_count": 339,
   "metadata": {},
   "outputs": [
    {
     "name": "stderr",
     "output_type": "stream",
     "text": [
      "C:\\Anaconda3\\lib\\site-packages\\ipykernel_launcher.py:107: RuntimeWarning: divide by zero encountered in power\n",
      "C:\\Anaconda3\\lib\\site-packages\\ipykernel_launcher.py:107: RuntimeWarning: invalid value encountered in power\n"
     ]
    }
   ],
   "source": [
    "gamma_list = np.linspace(-15, 15, 20)\n",
    "num_list = np.logspace(1.3, 3, 25).astype(int)\n",
    "\n",
    "\n",
    "res_matrix = np.zeros((len(gamma_list), len(num_list))) # results matrix\n",
    "for i in range(len(gamma_list)):\n",
    "    for j in range(len(num_list)):\n",
    "        res_matrix[i,j] = compute_correlation_cec_pgrk([num_list[j]], gamma_list[i], 0.85, 0.2)[0]"
   ]
  },
  {
   "cell_type": "code",
   "execution_count": 340,
   "metadata": {},
   "outputs": [
    {
     "data": {
      "text/plain": [
       "Text(0.5, 1.0, 'Correlations: CEC score and PageRank')"
      ]
     },
     "execution_count": 340,
     "metadata": {},
     "output_type": "execute_result"
    },
    {
     "data": {
      "image/png": "[encoded data removed]",
      "text/plain": [
       "<Figure size 432x288 with 2 Axes>"
      ]
     },
     "metadata": {
      "needs_background": "light"
     },
     "output_type": "display_data"
    }
   ],
   "source": [
    "import matplotlib\n",
    "\n",
    "plt.imshow(res_matrix, norm=matplotlib.colors.PowerNorm(1.5), cmap = \"YlGnBu_r\")\n",
    "plt.colorbar()\n",
    "plt.ylabel(\"Bias Parameter, $\\gamma$\", fontsize = 14)\n",
    "plt.xlabel(\"$n$, Number of Nodes in E-R Hypergraph\", fontsize = 14)\n",
    "\n",
    "\n",
    "labels = [item.get_text() for item in ax.get_yticklabels()]\n",
    "labels2 = [\"\"] + list(np.linspace(-15, 15, 9))\n",
    "ax = plt.gca()\n",
    "ax.xaxis.set_ticks(np.arange(0, 25, 12))\n",
    "ax.yaxis.set_ticklabels(labels2)\n",
    "\n",
    "xticks = [ \"$10^1$\", \"$10^2$\", \"$10^3$\"]\n",
    "ax.set_xticklabels(xticks)\n",
    "plt.title(\"Correlations: CEC score and PageRank\", fontsize = 14)\n",
    "#plt.savefig(\"imgs/cec_pgrk_er_model_bias_and_num_nodes.pdf\", bbox_inches = \"tight\")"
   ]
  },
  {
   "cell_type": "markdown",
   "metadata": {},
   "source": [
    "## Scaling the bias parameter\n",
    "$$\n",
    "\\Gamma(\\gamma, N) = \\gamma \\log (N)\n",
    "$$"
   ]
  },
  {
   "cell_type": "code",
   "execution_count": 343,
   "metadata": {},
   "outputs": [
    {
     "name": "stderr",
     "output_type": "stream",
     "text": [
      "C:\\Anaconda3\\lib\\site-packages\\ipykernel_launcher.py:107: RuntimeWarning: invalid value encountered in power\n"
     ]
    }
   ],
   "source": [
    "gamma_list = np.linspace(-15, 15, 20)\n",
    "num_list = np.logspace(1, 3, 25).astype(int)\n",
    "\n",
    "def gamma_fn(gamma, N):\n",
    "    return gamma*np.log(N)\n",
    "\n",
    "res_matrix = np.zeros((len(gamma_list), len(num_list))) # results matrix\n",
    "for i in range(len(gamma_list)):\n",
    "    for j in range(len(num_list)):\n",
    "        res_matrix[i,j] = compute_correlation_cec_pgrk([num_list[j]], gamma_fn(gamma_list[i], num_list[j]), 0.85, 0.2)[0]"
   ]
  },
  {
   "cell_type": "code",
   "execution_count": 344,
   "metadata": {},
   "outputs": [
    {
     "data": {
      "text/plain": [
       "Text(0.5, 1.0, 'Correlations: CEC score and PageRank')"
      ]
     },
     "execution_count": 344,
     "metadata": {},
     "output_type": "execute_result"
    },
    {
     "data": {
      "image/png": "[encoded data removed]",
      "text/plain": [
       "<Figure size 432x288 with 2 Axes>"
      ]
     },
     "metadata": {
      "needs_background": "light"
     },
     "output_type": "display_data"
    }
   ],
   "source": [
    "import matplotlib\n",
    "\n",
    "plt.imshow(res_matrix, norm=matplotlib.colors.PowerNorm(1.5), cmap = \"YlGnBu_r\")\n",
    "plt.colorbar()\n",
    "plt.ylabel(\"Bias $\\gamma$, using scaling function, $\\Gamma$.\", fontsize = 14)\n",
    "plt.xlabel(\"$n$, Number of Nodes in E-R Hypergraph\", fontsize = 14)\n",
    "\n",
    "\n",
    "labels = [item.get_text() for item in ax.get_yticklabels()]\n",
    "labels2 = [\"\"] + list(np.linspace(-15, 15, 9))\n",
    "ax = plt.gca()\n",
    "ax.xaxis.set_ticks(np.arange(0, 25, 12))\n",
    "ax.yaxis.set_ticklabels(labels2)\n",
    "\n",
    "xticks = [ \"$10^1$\", \"$10^2$\", \"$10^3$\"]\n",
    "ax.set_xticklabels(xticks)\n",
    "plt.title(\"Correlations: CEC score and PageRank\", fontsize = 14)\n",
    "#plt.savefig(\"imgs/scaled_cec_pgrk_er_model_bias_and_num_nodes.pdf\", bbox_inches = \"tight\")"
   ]
  },
  {
   "cell_type": "markdown",
   "metadata": {},
   "source": [
    "In this figure, we have computed the correlation between the CEC and PageRank measures ($\\alpha = 0.85$), varying both the bias parameter and the number of nodes."
   ]
  },
  {
   "cell_type": "markdown",
   "metadata": {},
   "source": [
    "## Computing correlations between PageRanks of two different biases.\n",
    "$$\n",
    "PG_{(\\gamma_1)} \\text{ compared to } PG_{(\\gamma_2)} \n",
    "$$\n",
    "Not used in the report"
   ]
  },
  {
   "cell_type": "code",
   "execution_count": 271,
   "metadata": {},
   "outputs": [
    {
     "name": "stderr",
     "output_type": "stream",
     "text": [
      "C:\\Anaconda3\\lib\\site-packages\\ipykernel_launcher.py:30: RuntimeWarning: divide by zero encountered in power\n"
     ]
    }
   ],
   "source": [
    "# find correlations of small graphs, average over many due to speed and flucations\n",
    "\n",
    "num_list = np.logspace(1, 3, 22).astype(int)\n",
    "\n",
    "avgs = [[] for _ in range(len(num_list))]\n",
    "\n",
    "gamma_1 = -2 # specify the different gamma values for the PageRanks we want to compare\n",
    "gamma_2 = 2\n",
    "\n",
    "for i in range(300):\n",
    "    corr_hist2 = compute_pgrk_correlations(num_list, gamma_1, gamma_2)\n",
    "    for j in range(len(corr_hist2)):\n",
    "        if np.isnan(corr_hist2[j]):\n",
    "            pass # sometimes throws an error, passes in this case\n",
    "        else:\n",
    "            avgs[j].append(corr_hist2[j])\n",
    "            \n",
    "avgs_final = [np.mean(item) for item in avgs] # calculate the average"
   ]
  },
  {
   "cell_type": "code",
   "execution_count": 272,
   "metadata": {},
   "outputs": [
    {
     "data": {
      "text/plain": [
       "[<matplotlib.lines.Line2D at 0x22617ee5518>]"
      ]
     },
     "execution_count": 272,
     "metadata": {},
     "output_type": "execute_result"
    },
    {
     "data": {
      "image/png": "[encoded data removed]",
      "text/plain": [
       "<Figure size 432x288 with 1 Axes>"
      ]
     },
     "metadata": {
      "needs_background": "light"
     },
     "output_type": "display_data"
    }
   ],
   "source": [
    "plt.semilogx(num_list, avgs_final)"
   ]
  },
  {
   "cell_type": "code",
   "execution_count": 273,
   "metadata": {},
   "outputs": [],
   "source": [
    "# find correlations of larger graphs, only avg of 5 due to computational time required.\n",
    "\n",
    "num_list = np.logspace(3.1, 4, 8).astype(int)\n",
    "\n",
    "avgs2 = [[] for _ in range(len(num_list))]\n",
    "\n",
    "for i in range(5):\n",
    "    corr_hist2 = compute_pgrk_correlations(num_list, gamma_1, gamma_2)\n",
    "    for j in range(len(corr_hist2)):\n",
    "        if np.isnan(corr_hist2[j]):\n",
    "            pass\n",
    "        else:\n",
    "            avgs2[j].append(corr_hist2[j])\n",
    "            \n",
    "avgs_final2 = [np.mean(item) for item in avgs2]"
   ]
  },
  {
   "cell_type": "code",
   "execution_count": 274,
   "metadata": {},
   "outputs": [
    {
     "data": {
      "text/plain": [
       "<module 'matplotlib.pyplot' from 'C:\\\\Anaconda3\\\\lib\\\\site-packages\\\\matplotlib\\\\pyplot.py'>"
      ]
     },
     "execution_count": 274,
     "metadata": {},
     "output_type": "execute_result"
    },
    {
     "data": {
      "image/png": "[encoded data removed]",
      "text/plain": [
       "<Figure size 432x288 with 1 Axes>"
      ]
     },
     "metadata": {
      "needs_background": "light"
     },
     "output_type": "display_data"
    }
   ],
   "source": [
    "# append results together and plot\n",
    "\n",
    "num_list = np.logspace(1.5, 4, 30)\n",
    "\n",
    "plt.semilogx(num_list, avgs_final + avgs_final2)\n",
    "plt.xlabel(\"$N$, Number of Nodes\")\n",
    "plt.ylabel(\"Correlation\")\n",
    "plt.axhline(1, linestyle = \"--\", color = \"gray\")\n",
    "plt"
   ]
  },
  {
   "cell_type": "code",
   "execution_count": 144,
   "metadata": {},
   "outputs": [],
   "source": [
    "er_walk_corr = avgs_final + avgs_final2"
   ]
  },
  {
   "cell_type": "code",
   "execution_count": 145,
   "metadata": {},
   "outputs": [],
   "source": [
    "# import pickle\n",
    "\n",
    "# with open('data/corr_r1_r_2_er_model.pkl', 'wb') as f: \n",
    "#     pickle.dump(er_walk_corr, f)"
   ]
  },
  {
   "cell_type": "code",
   "execution_count": null,
   "metadata": {},
   "outputs": [],
   "source": []
  }
 ],
 "metadata": {
  "kernelspec": {
   "display_name": "Python 3",
   "language": "python",
   "name": "python3"
  },
  "language_info": {
   "codemirror_mode": {
    "name": "ipython",
    "version": 3
   },
   "file_extension": ".py",
   "mimetype": "text/x-python",
   "name": "python",
   "nbconvert_exporter": "python",
   "pygments_lexer": "ipython3",
   "version": "3.6.6"
  }
 },
 "nbformat": 4,
 "nbformat_minor": 2
}
