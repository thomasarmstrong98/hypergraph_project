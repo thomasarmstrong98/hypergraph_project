{
 "cells": [
  {
   "cell_type": "code",
   "execution_count": 77,
   "metadata": {},
   "outputs": [],
   "source": [
    "import numpy as np\n",
    "import matplotlib.pyplot as plt\n",
    "import networkx as nx\n",
    "from halp.undirected_hypergraph import UndirectedHypergraph\n",
    "from halp.utilities import undirected_graph_transformations, undirected_matrices\n",
    "import scipy"
   ]
  },
  {
   "cell_type": "markdown",
   "metadata": {},
   "source": [
    "### CEC- Clique-Motif Eigenvalue Centrality\n",
    "\n",
    "Calculate the CEC centrality measure for the Example hypergraph of the report using power method and SVD approach.\n",
    "\n",
    "\n",
    "#### Note:\n",
    "\n",
    "Please see the notebook \"erdos_renyi_centrality_correlations.ipynb\" for full documentation of the functions used."
   ]
  },
  {
   "cell_type": "code",
   "execution_count": 78,
   "metadata": {},
   "outputs": [
    {
     "data": {
      "text/plain": [
       "(11, 4)"
      ]
     },
     "execution_count": 78,
     "metadata": {},
     "output_type": "execute_result"
    }
   ],
   "source": [
    "# generate hypergraph\n",
    "\n",
    "H = UndirectedHypergraph()\n",
    "H.add_nodes([1,2,3,4,5,6,7,8,9,10,11])\n",
    "H.add_hyperedge([1,2,3])\n",
    "H.add_hyperedge([4,5,3])\n",
    "H.add_hyperedge([3, 6])\n",
    "H.add_hyperedge([6,7,8,9,10,11])\n",
    "\n",
    "node_map = undirected_matrices.get_node_mapping(H)[1]\n",
    "edge_map = undirected_matrices.get_hyperedge_id_mapping(H)[1]\n",
    "\n",
    "I = undirected_matrices.get_incidence_matrix(H, node_map, edge_map).toarray()\n",
    "np.shape(I)"
   ]
  },
  {
   "cell_type": "code",
   "execution_count": 79,
   "metadata": {},
   "outputs": [],
   "source": [
    "A = I @ I.T # hyperadjacency matrix"
   ]
  },
  {
   "cell_type": "code",
   "execution_count": 80,
   "metadata": {},
   "outputs": [
    {
     "data": {
      "text/plain": [
       "array([[1, 1, 1, 0, 0, 0, 0, 0, 0, 0, 0],\n",
       "       [1, 1, 1, 0, 0, 0, 0, 0, 0, 0, 0],\n",
       "       [1, 1, 3, 1, 1, 1, 0, 0, 0, 0, 0],\n",
       "       [0, 0, 1, 1, 1, 0, 0, 0, 0, 0, 0],\n",
       "       [0, 0, 1, 1, 1, 0, 0, 0, 0, 0, 0],\n",
       "       [0, 0, 1, 0, 0, 2, 1, 1, 1, 1, 1],\n",
       "       [0, 0, 0, 0, 0, 1, 1, 1, 1, 1, 1],\n",
       "       [0, 0, 0, 0, 0, 1, 1, 1, 1, 1, 1],\n",
       "       [0, 0, 0, 0, 0, 1, 1, 1, 1, 1, 1],\n",
       "       [0, 0, 0, 0, 0, 1, 1, 1, 1, 1, 1],\n",
       "       [0, 0, 0, 0, 0, 1, 1, 1, 1, 1, 1]], dtype=int32)"
      ]
     },
     "execution_count": 80,
     "metadata": {},
     "output_type": "execute_result"
    }
   ],
   "source": [
    "A"
   ]
  },
  {
   "cell_type": "code",
   "execution_count": 101,
   "metadata": {},
   "outputs": [],
   "source": [
    "# calculate the CEC centrality\n",
    "\n",
    "\n",
    "# using SVD approach\n",
    "\n",
    "def compute_cec_ranking_svd(A):\n",
    "    # using best rank one approximation\n",
    "    rank = 1\n",
    "\n",
    "    # Perform SVD adjacency matrix\n",
    "    U, D, Q = np.linalg.svd(A, full_matrices=True)\n",
    "    \n",
    "    return U[:, :rank].T[0]\n",
    "\n",
    "\n",
    "# using eigenvalue/eigenvector approach\n",
    "\n",
    "def compute_cec_ranking_power(A, num_sims):\n",
    "    # implementing the power method\n",
    "    # code altered from: https://en.wikipedia.org/wiki/Power_iteration\n",
    "    b_k = np.random.rand(len(A))\n",
    "\n",
    "    for _ in range(num_sims):\n",
    "        # calculate the matrix-by-vector product Ab\n",
    "        b_k1 = np.dot(A, b_k)\n",
    "\n",
    "        # calculate the norm\n",
    "        b_k1_norm = np.linalg.norm(b_k1, 1) # normalise using 1-norm as explained in report.\n",
    "\n",
    "        # re normalize the vector\n",
    "        b_k = b_k1 / b_k1_norm\n",
    "\n",
    "    return b_k"
   ]
  },
  {
   "cell_type": "code",
   "execution_count": 93,
   "metadata": {},
   "outputs": [],
   "source": [
    "c_svd = compute_cec_ranking_svd(A)\n",
    "c = compute_cec_ranking_power(A, 100)\n",
    "\n",
    "svd_decomp = np.outer(c_svd, c_svd)"
   ]
  },
  {
   "cell_type": "code",
   "execution_count": 94,
   "metadata": {},
   "outputs": [],
   "source": [
    "from mpl_toolkits.axes_grid1 import make_axes_locatable\n",
    "from matplotlib.colors import LogNorm\n",
    "from matplotlib.ticker import MultipleLocator\n",
    "from matplotlib import ticker"
   ]
  },
  {
   "cell_type": "code",
   "execution_count": 95,
   "metadata": {},
   "outputs": [
    {
     "data": {
      "image/png": "[encoded data removed]",
      "text/plain": [
       "<Figure size 432x288 with 4 Axes>"
      ]
     },
     "metadata": {
      "needs_background": "light"
     },
     "output_type": "display_data"
    }
   ],
   "source": [
    "# compare how the actual adjacency matrix and its rank-1 approximation\n",
    "\n",
    "fig, (ax1, ax2) = plt.subplots(1,2)\n",
    "\n",
    "ax1.set_title('Adjacency Matrix')\n",
    "im1 = ax1.imshow(A, cmap = \"Blues_r\")\n",
    "ax1.set_ylabel(\"Node $i$\")\n",
    "ax1.set_xlabel(\"Node $j$\")\n",
    "xticks = ticker.MaxNLocator(6)\n",
    "ax1.xaxis.set_major_locator(xticks)\n",
    "\n",
    "\n",
    "divider = make_axes_locatable(ax1)\n",
    "cax = divider.append_axes(\"right\", size=\"5%\", pad=0.05)\n",
    "plt.colorbar(im1, cax=cax)\n",
    "\n",
    "\n",
    "ax2.set_title(\"CEC Approximation\")\n",
    "im2 = ax2.imshow(svd_decomp, cmap = \"Blues_r\")\n",
    "ax2.set_ylabel(\"Node $i$\")\n",
    "ax2.set_xlabel(\"Node $j$\")\n",
    "xticks = ticker.MaxNLocator(6)\n",
    "ax2.xaxis.set_major_locator(xticks)\n",
    "\n",
    "\n",
    "divider = make_axes_locatable(ax2)\n",
    "cax = divider.append_axes(\"right\", size=\"5%\", pad=0.05)\n",
    "plt.colorbar(im2, cax=cax)\n",
    "\n",
    "fig.tight_layout()\n",
    "\n",
    "#plt.savefig('imgs/CEC_approximation_heatmap.pdf', bbox_inches = \"tight\")"
   ]
  },
  {
   "cell_type": "code",
   "execution_count": 89,
   "metadata": {},
   "outputs": [
    {
     "data": {
      "text/plain": [
       "<matplotlib.colorbar.Colorbar at 0x25aa71f8898>"
      ]
     },
     "execution_count": 89,
     "metadata": {},
     "output_type": "execute_result"
    },
    {
     "data": {
      "image/png": "[encoded data removed]",
      "text/plain": [
       "<Figure size 432x288 with 2 Axes>"
      ]
     },
     "metadata": {
      "needs_background": "light"
     },
     "output_type": "display_data"
    }
   ],
   "source": [
    "plt.imshow(np.outer(c, c), cmap = \"Blues_r\")\n",
    "plt.colorbar()"
   ]
  },
  {
   "cell_type": "code",
   "execution_count": 58,
   "metadata": {},
   "outputs": [
    {
     "data": {
      "text/plain": [
       "<matplotlib.collections.PathCollection at 0x25aa4ccbac8>"
      ]
     },
     "execution_count": 58,
     "metadata": {},
     "output_type": "execute_result"
    },
    {
     "data": {
      "image/png": "[encoded data removed]",
      "text/plain": [
       "<Figure size 432x288 with 1 Axes>"
      ]
     },
     "metadata": {
      "needs_background": "light"
     },
     "output_type": "display_data"
    }
   ],
   "source": [
    "plt.scatter(range(11), c, marker = \"x\")"
   ]
  },
  {
   "cell_type": "code",
   "execution_count": 110,
   "metadata": {},
   "outputs": [
    {
     "name": "stdout",
     "output_type": "stream",
     "text": [
      "SVD: 0.13663649559020996\n",
      "Power: 0.22340154647827148\n"
     ]
    }
   ],
   "source": [
    "# testing where the SVD or power method is faster \n",
    "import time\n",
    "\n",
    "A_ = np.random.rand(1000, 1000)\n",
    "\n",
    "s1 = time.time()\n",
    "c_svd = np.abs(compute_cec_ranking_svd(A_))\n",
    "c_svd = c_svd / c_svd.sum()\n",
    "e1 = time.time()\n",
    "\n",
    "s2 = time.time()\n",
    "c = compute_cec_ranking_power(A_, 1000)\n",
    "c = c/c.sum()\n",
    "e2 = time.time()\n",
    "\n",
    "print(\"SVD: \" + str(e2 - s2))\n",
    "print(\"Power: \" + str(e1 - s1))"
   ]
  },
  {
   "cell_type": "code",
   "execution_count": 111,
   "metadata": {},
   "outputs": [
    {
     "data": {
      "text/plain": [
       "1.5294180802060853e-05"
      ]
     },
     "execution_count": 111,
     "metadata": {},
     "output_type": "execute_result"
    }
   ],
   "source": [
    "# check they give same result\n",
    "\n",
    "np.linalg.norm(c_svd - c)"
   ]
  },
  {
   "cell_type": "markdown",
   "metadata": {},
   "source": [
    "## General centrality - Not used"
   ]
  },
  {
   "cell_type": "code",
   "execution_count": 61,
   "metadata": {},
   "outputs": [],
   "source": [
    "def general_centrality(I, beta_1, beta_2):\n",
    "    \n",
    "    a = np.zeros(len(I))\n",
    "    b = np.zeros(len(I))\n",
    "    \n",
    "    for k in range(100):\n",
    "        a += np.linalg.matrix_power(beta_1*beta_2* I @ I.T, k) @ I.dot(np.ones(len(I[0])))\n",
    "        b += ((beta_1*beta_2)**k) * np.linalg.matrix_power(I @ I.T, k+1).dot(np.ones(len(I)))\n",
    "    return a + beta_1*b"
   ]
  },
  {
   "cell_type": "code",
   "execution_count": 73,
   "metadata": {},
   "outputs": [],
   "source": [
    "c_svd = compute_cec_ranking_svd(A)\n",
    "c = compute_cec_ranking_power(A, 100)\n",
    "\n",
    "svd_decomp = np.outer(c_svd, c_svd)\n",
    "\n",
    "c = c/c.sum()"
   ]
  },
  {
   "cell_type": "code",
   "execution_count": 74,
   "metadata": {},
   "outputs": [],
   "source": [
    "res = general_centrality(I, 0.8, 0.8)\n",
    "res = res / res.sum()"
   ]
  },
  {
   "cell_type": "code",
   "execution_count": 75,
   "metadata": {},
   "outputs": [
    {
     "data": {
      "text/plain": [
       "[<matplotlib.lines.Line2D at 0x25aa3712c18>]"
      ]
     },
     "execution_count": 75,
     "metadata": {},
     "output_type": "execute_result"
    },
    {
     "data": {
      "image/png": "[encoded data removed]",
      "text/plain": [
       "<Figure size 432x288 with 1 Axes>"
      ]
     },
     "metadata": {
      "needs_background": "light"
     },
     "output_type": "display_data"
    }
   ],
   "source": [
    "plt.plot(res)\n",
    "plt.plot(c)"
   ]
  },
  {
   "cell_type": "code",
   "execution_count": 76,
   "metadata": {},
   "outputs": [
    {
     "data": {
      "text/plain": [
       "array([0.0173538 , 0.0173538 , 0.0744895 , 0.0173538 , 0.0173538 ,\n",
       "       0.17583412, 0.13605223, 0.13605223, 0.13605223, 0.13605223,\n",
       "       0.13605223])"
      ]
     },
     "execution_count": 76,
     "metadata": {},
     "output_type": "execute_result"
    }
   ],
   "source": [
    "res"
   ]
  },
  {
   "cell_type": "code",
   "execution_count": 70,
   "metadata": {},
   "outputs": [
    {
     "data": {
      "text/plain": [
       "array([[-0.04808975],\n",
       "       [-0.04808975],\n",
       "       [-0.20642052],\n",
       "       [-0.04808975],\n",
       "       [-0.04808975],\n",
       "       [-0.48726026],\n",
       "       [-0.37701923],\n",
       "       [-0.37701923],\n",
       "       [-0.37701923],\n",
       "       [-0.37701923],\n",
       "       [-0.37701923]])"
      ]
     },
     "execution_count": 70,
     "metadata": {},
     "output_type": "execute_result"
    }
   ],
   "source": [
    "c_svd"
   ]
  },
  {
   "cell_type": "code",
   "execution_count": null,
   "metadata": {},
   "outputs": [],
   "source": []
  }
 ],
 "metadata": {
  "kernelspec": {
   "display_name": "Python 3",
   "language": "python",
   "name": "python3"
  },
  "language_info": {
   "codemirror_mode": {
    "name": "ipython",
    "version": 3
   },
   "file_extension": ".py",
   "mimetype": "text/x-python",
   "name": "python",
   "nbconvert_exporter": "python",
   "pygments_lexer": "ipython3",
   "version": "3.6.6"
  }
 },
 "nbformat": 4,
 "nbformat_minor": 2
}
